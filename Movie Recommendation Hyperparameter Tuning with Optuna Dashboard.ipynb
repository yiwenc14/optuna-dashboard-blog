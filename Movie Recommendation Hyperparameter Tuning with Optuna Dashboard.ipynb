{
 "cells": [
  {
   "cell_type": "code",
   "execution_count": 1,
   "id": "890b7b1f-a388-45ea-bdfd-30a3d88c284b",
   "metadata": {},
   "outputs": [
    {
     "name": "stdout",
     "output_type": "stream",
     "text": [
      "Collecting optuna\n",
      "  Downloading optuna-4.0.0-py3-none-any.whl.metadata (16 kB)\n",
      "Collecting scikit-surprise\n",
      "  Downloading scikit_surprise-1.1.4.tar.gz (154 kB)\n",
      "\u001b[2K     \u001b[90m━━━━━━━━━━━━━━━━━━━━━━━━━━━━━━━━━━━━━━━\u001b[0m \u001b[32m154.4/154.4 kB\u001b[0m \u001b[31m1.0 MB/s\u001b[0m eta \u001b[36m0:00:00\u001b[0ma \u001b[36m0:00:01\u001b[0m\n",
      "\u001b[?25h  Installing build dependencies ... \u001b[?25ldone\n",
      "\u001b[?25h  Getting requirements to build wheel ... \u001b[?25ldone\n",
      "\u001b[?25h  Preparing metadata (pyproject.toml) ... \u001b[?25ldone\n",
      "\u001b[?25hRequirement already satisfied: pandas in /opt/anaconda3/lib/python3.11/site-packages (2.2.3)\n",
      "Collecting alembic>=1.5.0 (from optuna)\n",
      "  Downloading alembic-1.14.0-py3-none-any.whl.metadata (7.4 kB)\n",
      "Collecting colorlog (from optuna)\n",
      "  Downloading colorlog-6.9.0-py3-none-any.whl.metadata (10 kB)\n",
      "Requirement already satisfied: numpy in /opt/anaconda3/lib/python3.11/site-packages (from optuna) (1.26.4)\n",
      "Requirement already satisfied: packaging>=20.0 in /opt/anaconda3/lib/python3.11/site-packages (from optuna) (23.1)\n",
      "Requirement already satisfied: sqlalchemy>=1.3.0 in /opt/anaconda3/lib/python3.11/site-packages (from optuna) (2.0.25)\n",
      "Requirement already satisfied: tqdm in /opt/anaconda3/lib/python3.11/site-packages (from optuna) (4.66.5)\n",
      "Requirement already satisfied: PyYAML in /opt/anaconda3/lib/python3.11/site-packages (from optuna) (6.0.1)\n",
      "Requirement already satisfied: joblib>=1.2.0 in /opt/anaconda3/lib/python3.11/site-packages (from scikit-surprise) (1.2.0)\n",
      "Requirement already satisfied: scipy>=1.6.0 in /opt/anaconda3/lib/python3.11/site-packages (from scikit-surprise) (1.11.4)\n",
      "Requirement already satisfied: python-dateutil>=2.8.2 in /opt/anaconda3/lib/python3.11/site-packages (from pandas) (2.8.2)\n",
      "Requirement already satisfied: pytz>=2020.1 in /opt/anaconda3/lib/python3.11/site-packages (from pandas) (2023.3.post1)\n",
      "Requirement already satisfied: tzdata>=2022.7 in /opt/anaconda3/lib/python3.11/site-packages (from pandas) (2023.3)\n",
      "Collecting Mako (from alembic>=1.5.0->optuna)\n",
      "  Downloading Mako-1.3.6-py3-none-any.whl.metadata (2.9 kB)\n",
      "Requirement already satisfied: typing-extensions>=4 in /opt/anaconda3/lib/python3.11/site-packages (from alembic>=1.5.0->optuna) (4.9.0)\n",
      "Requirement already satisfied: six>=1.5 in /opt/anaconda3/lib/python3.11/site-packages (from python-dateutil>=2.8.2->pandas) (1.16.0)\n",
      "Requirement already satisfied: MarkupSafe>=0.9.2 in /opt/anaconda3/lib/python3.11/site-packages (from Mako->alembic>=1.5.0->optuna) (2.1.3)\n",
      "Downloading optuna-4.0.0-py3-none-any.whl (362 kB)\n",
      "\u001b[2K   \u001b[90m━━━━━━━━━━━━━━━━━━━━━━━━━━━━━━━━━━━━━━━━\u001b[0m \u001b[32m362.8/362.8 kB\u001b[0m \u001b[31m1.3 MB/s\u001b[0m eta \u001b[36m0:00:00\u001b[0m00:01\u001b[0m00:01\u001b[0m\n",
      "\u001b[?25hDownloading alembic-1.14.0-py3-none-any.whl (233 kB)\n",
      "\u001b[2K   \u001b[90m━━━━━━━━━━━━━━━━━━━━━━━━━━━━━━━━━━━━━━━━\u001b[0m \u001b[32m233.5/233.5 kB\u001b[0m \u001b[31m1.5 MB/s\u001b[0m eta \u001b[36m0:00:00\u001b[0ma \u001b[36m0:00:01\u001b[0m\n",
      "\u001b[?25hDownloading colorlog-6.9.0-py3-none-any.whl (11 kB)\n",
      "Downloading Mako-1.3.6-py3-none-any.whl (78 kB)\n",
      "\u001b[2K   \u001b[90m━━━━━━━━━━━━━━━━━━━━━━━━━━━━━━━━━━━━━━━━\u001b[0m \u001b[32m78.6/78.6 kB\u001b[0m \u001b[31m1.6 MB/s\u001b[0m eta \u001b[36m0:00:00\u001b[0ma \u001b[36m0:00:01\u001b[0m\n",
      "\u001b[?25hBuilding wheels for collected packages: scikit-surprise\n",
      "  Building wheel for scikit-surprise (pyproject.toml) ... \u001b[?25ldone\n",
      "\u001b[?25h  Created wheel for scikit-surprise: filename=scikit_surprise-1.1.4-cp311-cp311-macosx_11_0_arm64.whl size=485148 sha256=32e3a4db05bd6867042b74a2418e1711c758b57c99196d320309f2289c935ef5\n",
      "  Stored in directory: /Users/cathycheng/Library/Caches/pip/wheels/2a/8f/6e/7e2899163e2d85d8266daab4aa1cdabec7a6c56f83c015b5af\n",
      "Successfully built scikit-surprise\n",
      "Installing collected packages: Mako, colorlog, scikit-surprise, alembic, optuna\n",
      "Successfully installed Mako-1.3.6 alembic-1.14.0 colorlog-6.9.0 optuna-4.0.0 scikit-surprise-1.1.4\n",
      "Note: you may need to restart the kernel to use updated packages.\n"
     ]
    }
   ],
   "source": [
    "# pip install optuna scikit-surprise pandas"
   ]
  },
  {
   "cell_type": "code",
   "execution_count": 10,
   "id": "154fbb0c-143d-4087-ae42-b06663219693",
   "metadata": {},
   "outputs": [
    {
     "name": "stdout",
     "output_type": "stream",
     "text": [
      "Collecting optuna-dashboard\n",
      "  Downloading optuna_dashboard-0.16.2-py3-none-any.whl.metadata (7.0 kB)\n",
      "Collecting bottle>=0.13.0 (from optuna-dashboard)\n",
      "  Downloading bottle-0.13.2-py2.py3-none-any.whl.metadata (1.8 kB)\n",
      "Requirement already satisfied: optuna>=3.1.0 in /opt/anaconda3/lib/python3.11/site-packages (from optuna-dashboard) (4.0.0)\n",
      "Requirement already satisfied: packaging in /opt/anaconda3/lib/python3.11/site-packages (from optuna-dashboard) (23.1)\n",
      "Requirement already satisfied: scikit-learn in /opt/anaconda3/lib/python3.11/site-packages (from optuna-dashboard) (1.2.2)\n",
      "Requirement already satisfied: alembic>=1.5.0 in /opt/anaconda3/lib/python3.11/site-packages (from optuna>=3.1.0->optuna-dashboard) (1.14.0)\n",
      "Requirement already satisfied: colorlog in /opt/anaconda3/lib/python3.11/site-packages (from optuna>=3.1.0->optuna-dashboard) (6.9.0)\n",
      "Requirement already satisfied: numpy in /opt/anaconda3/lib/python3.11/site-packages (from optuna>=3.1.0->optuna-dashboard) (1.26.4)\n",
      "Requirement already satisfied: sqlalchemy>=1.3.0 in /opt/anaconda3/lib/python3.11/site-packages (from optuna>=3.1.0->optuna-dashboard) (2.0.25)\n",
      "Requirement already satisfied: tqdm in /opt/anaconda3/lib/python3.11/site-packages (from optuna>=3.1.0->optuna-dashboard) (4.66.5)\n",
      "Requirement already satisfied: PyYAML in /opt/anaconda3/lib/python3.11/site-packages (from optuna>=3.1.0->optuna-dashboard) (6.0.1)\n",
      "Requirement already satisfied: scipy>=1.3.2 in /opt/anaconda3/lib/python3.11/site-packages (from scikit-learn->optuna-dashboard) (1.11.4)\n",
      "Requirement already satisfied: joblib>=1.1.1 in /opt/anaconda3/lib/python3.11/site-packages (from scikit-learn->optuna-dashboard) (1.2.0)\n",
      "Requirement already satisfied: threadpoolctl>=2.0.0 in /opt/anaconda3/lib/python3.11/site-packages (from scikit-learn->optuna-dashboard) (2.2.0)\n",
      "Requirement already satisfied: Mako in /opt/anaconda3/lib/python3.11/site-packages (from alembic>=1.5.0->optuna>=3.1.0->optuna-dashboard) (1.3.6)\n",
      "Requirement already satisfied: typing-extensions>=4 in /opt/anaconda3/lib/python3.11/site-packages (from alembic>=1.5.0->optuna>=3.1.0->optuna-dashboard) (4.9.0)\n",
      "Requirement already satisfied: MarkupSafe>=0.9.2 in /opt/anaconda3/lib/python3.11/site-packages (from Mako->alembic>=1.5.0->optuna>=3.1.0->optuna-dashboard) (2.1.3)\n",
      "Downloading optuna_dashboard-0.16.2-py3-none-any.whl (8.4 MB)\n",
      "\u001b[2K   \u001b[90m━━━━━━━━━━━━━━━━━━━━━━━━━━━━━━━━━━━━━━━━\u001b[0m \u001b[32m8.4/8.4 MB\u001b[0m \u001b[31m21.3 MB/s\u001b[0m eta \u001b[36m0:00:00\u001b[0m00:01\u001b[0m00:01\u001b[0m\n",
      "\u001b[?25hDownloading bottle-0.13.2-py2.py3-none-any.whl (104 kB)\n",
      "\u001b[2K   \u001b[90m━━━━━━━━━━━━━━━━━━━━━━━━━━━━━━━━━━━━━━━━\u001b[0m \u001b[32m104.1/104.1 kB\u001b[0m \u001b[31m8.8 MB/s\u001b[0m eta \u001b[36m0:00:00\u001b[0m\n",
      "\u001b[?25hInstalling collected packages: bottle, optuna-dashboard\n",
      "Successfully installed bottle-0.13.2 optuna-dashboard-0.16.2\n",
      "Note: you may need to restart the kernel to use updated packages.\n"
     ]
    }
   ],
   "source": [
    "pip install optuna-dashboard"
   ]
  },
  {
   "cell_type": "code",
   "execution_count": 4,
   "id": "7370d451-1089-4df3-bbef-9345ba38218d",
   "metadata": {},
   "outputs": [],
   "source": [
    "import pandas as pd\n",
    "from surprise import Dataset, Reader\n",
    "\n",
    "# Load the movie ratings dataset\n",
    "df = pd.read_csv('movie_ratings.csv')\n",
    "reader = Reader(rating_scale=(1, 5))\n",
    "data = Dataset.load_from_df(df[['user_id', 'movie_id', 'rating']], reader)"
   ]
  },
  {
   "cell_type": "code",
   "execution_count": 5,
   "id": "813d92bd-b1c0-43c7-8a04-11579802e5c3",
   "metadata": {},
   "outputs": [],
   "source": [
    "from surprise import KNNWithMeans\n",
    "from surprise.model_selection import cross_validate\n",
    "import optuna\n",
    "\n",
    "def objective(trial):\n",
    "    # Suggest values for hyperparameters\n",
    "    k = trial.suggest_int('k', 10, 50)\n",
    "    min_k = trial.suggest_int('min_k', 1, 5)\n",
    "    sim_options = {\n",
    "        'name': trial.suggest_categorical('similarity', ['cosine', 'pearson']),\n",
    "        'user_based': trial.suggest_categorical('user_based', [True, False])\n",
    "    }\n",
    "\n",
    "    # Initialize KNNWithMeans with suggested hyperparameters\n",
    "    algo = KNNWithMeans(k=k, min_k=min_k, sim_options=sim_options)\n",
    "    \n",
    "    # Perform cross-validation\n",
    "    result = cross_validate(algo, data, measures=['RMSE'], cv=3, verbose=False)\n",
    "    \n",
    "    # Return mean RMSE\n",
    "    return result['test_rmse'].mean()"
   ]
  },
  {
   "cell_type": "code",
   "execution_count": 11,
   "id": "0e2cf650-a1ad-4a15-854e-9f2380b7cfd1",
   "metadata": {},
   "outputs": [
    {
     "name": "stderr",
     "output_type": "stream",
     "text": [
      "[I 2024-11-04 22:13:14,688] A new study created in RDB with name: movie-recommendation-study\n"
     ]
    },
    {
     "name": "stdout",
     "output_type": "stream",
     "text": [
      "Computing the pearson similarity matrix...\n",
      "Done computing similarity matrix.\n",
      "Computing the pearson similarity matrix...\n",
      "Done computing similarity matrix.\n",
      "Computing the pearson similarity matrix...\n"
     ]
    },
    {
     "name": "stderr",
     "output_type": "stream",
     "text": [
      "[I 2024-11-04 22:13:16,625] Trial 0 finished with value: 0.7524828762037283 and parameters: {'k': 42, 'min_k': 2, 'similarity': 'pearson', 'user_based': True}. Best is trial 0 with value: 0.7524828762037283.\n"
     ]
    },
    {
     "name": "stdout",
     "output_type": "stream",
     "text": [
      "Done computing similarity matrix.\n",
      "Computing the cosine similarity matrix...\n",
      "Done computing similarity matrix.\n",
      "Computing the cosine similarity matrix...\n"
     ]
    },
    {
     "name": "stderr",
     "output_type": "stream",
     "text": [
      "[I 2024-11-04 22:13:17,174] Trial 1 finished with value: 0.7514498544340795 and parameters: {'k': 21, 'min_k': 2, 'similarity': 'cosine', 'user_based': False}. Best is trial 1 with value: 0.7514498544340795.\n"
     ]
    },
    {
     "name": "stdout",
     "output_type": "stream",
     "text": [
      "Done computing similarity matrix.\n",
      "Computing the cosine similarity matrix...\n",
      "Done computing similarity matrix.\n",
      "Computing the cosine similarity matrix...\n",
      "Done computing similarity matrix.\n",
      "Computing the cosine similarity matrix...\n"
     ]
    },
    {
     "name": "stderr",
     "output_type": "stream",
     "text": [
      "[I 2024-11-04 22:13:17,593] Trial 2 finished with value: 0.7514410940635754 and parameters: {'k': 45, 'min_k': 1, 'similarity': 'cosine', 'user_based': False}. Best is trial 2 with value: 0.7514410940635754.\n"
     ]
    },
    {
     "name": "stdout",
     "output_type": "stream",
     "text": [
      "Done computing similarity matrix.\n",
      "Computing the cosine similarity matrix...\n",
      "Done computing similarity matrix.\n",
      "Computing the cosine similarity matrix...\n",
      "Done computing similarity matrix.\n",
      "Computing the cosine similarity matrix...\n",
      "Done computing similarity matrix.\n",
      "Computing the cosine similarity matrix...\n"
     ]
    },
    {
     "name": "stderr",
     "output_type": "stream",
     "text": [
      "[I 2024-11-04 22:13:18,982] Trial 3 finished with value: 0.752169859508813 and parameters: {'k': 25, 'min_k': 3, 'similarity': 'cosine', 'user_based': True}. Best is trial 2 with value: 0.7514410940635754.\n"
     ]
    },
    {
     "name": "stdout",
     "output_type": "stream",
     "text": [
      "Done computing similarity matrix.\n",
      "Computing the pearson similarity matrix...\n",
      "Done computing similarity matrix.\n",
      "Computing the pearson similarity matrix...\n"
     ]
    },
    {
     "name": "stderr",
     "output_type": "stream",
     "text": [
      "[I 2024-11-04 22:13:19,592] Trial 4 finished with value: 0.7510288101113779 and parameters: {'k': 37, 'min_k': 2, 'similarity': 'pearson', 'user_based': False}. Best is trial 4 with value: 0.7510288101113779.\n"
     ]
    },
    {
     "name": "stdout",
     "output_type": "stream",
     "text": [
      "Done computing similarity matrix.\n",
      "Computing the pearson similarity matrix...\n",
      "Done computing similarity matrix.\n",
      "Computing the pearson similarity matrix...\n",
      "Done computing similarity matrix.\n",
      "Computing the pearson similarity matrix...\n",
      "Done computing similarity matrix.\n",
      "Computing the pearson similarity matrix...\n"
     ]
    },
    {
     "name": "stderr",
     "output_type": "stream",
     "text": [
      "[I 2024-11-04 22:13:20,082] Trial 5 finished with value: 0.7512552494369488 and parameters: {'k': 33, 'min_k': 2, 'similarity': 'pearson', 'user_based': False}. Best is trial 4 with value: 0.7510288101113779.\n"
     ]
    },
    {
     "name": "stdout",
     "output_type": "stream",
     "text": [
      "Done computing similarity matrix.\n",
      "Computing the pearson similarity matrix...\n",
      "Done computing similarity matrix.\n",
      "Computing the pearson similarity matrix...\n",
      "Done computing similarity matrix.\n",
      "Computing the pearson similarity matrix...\n"
     ]
    },
    {
     "name": "stderr",
     "output_type": "stream",
     "text": [
      "[I 2024-11-04 22:13:21,882] Trial 6 finished with value: 0.7508079173948913 and parameters: {'k': 32, 'min_k': 2, 'similarity': 'pearson', 'user_based': True}. Best is trial 6 with value: 0.7508079173948913.\n"
     ]
    },
    {
     "name": "stdout",
     "output_type": "stream",
     "text": [
      "Done computing similarity matrix.\n",
      "Computing the cosine similarity matrix...\n",
      "Done computing similarity matrix.\n",
      "Computing the cosine similarity matrix...\n"
     ]
    },
    {
     "name": "stderr",
     "output_type": "stream",
     "text": [
      "[I 2024-11-04 22:13:22,423] Trial 7 finished with value: 0.751583000150618 and parameters: {'k': 50, 'min_k': 1, 'similarity': 'cosine', 'user_based': False}. Best is trial 6 with value: 0.7508079173948913.\n"
     ]
    },
    {
     "name": "stdout",
     "output_type": "stream",
     "text": [
      "Done computing similarity matrix.\n",
      "Computing the cosine similarity matrix...\n",
      "Done computing similarity matrix.\n",
      "Computing the cosine similarity matrix...\n",
      "Done computing similarity matrix.\n",
      "Computing the cosine similarity matrix...\n",
      "Done computing similarity matrix.\n",
      "Computing the cosine similarity matrix...\n"
     ]
    },
    {
     "name": "stderr",
     "output_type": "stream",
     "text": [
      "[I 2024-11-04 22:13:23,778] Trial 8 finished with value: 0.752895768188503 and parameters: {'k': 46, 'min_k': 4, 'similarity': 'cosine', 'user_based': True}. Best is trial 6 with value: 0.7508079173948913.\n"
     ]
    },
    {
     "name": "stdout",
     "output_type": "stream",
     "text": [
      "Done computing similarity matrix.\n",
      "Computing the pearson similarity matrix...\n",
      "Done computing similarity matrix.\n",
      "Computing the pearson similarity matrix...\n",
      "Done computing similarity matrix.\n",
      "Computing the pearson similarity matrix...\n"
     ]
    },
    {
     "name": "stderr",
     "output_type": "stream",
     "text": [
      "[I 2024-11-04 22:13:25,412] Trial 9 finished with value: 0.7525537565083319 and parameters: {'k': 44, 'min_k': 2, 'similarity': 'pearson', 'user_based': True}. Best is trial 6 with value: 0.7508079173948913.\n"
     ]
    },
    {
     "name": "stdout",
     "output_type": "stream",
     "text": [
      "Done computing similarity matrix.\n",
      "Computing the pearson similarity matrix...\n",
      "Done computing similarity matrix.\n",
      "Computing the pearson similarity matrix...\n",
      "Done computing similarity matrix.\n",
      "Computing the pearson similarity matrix...\n"
     ]
    },
    {
     "name": "stderr",
     "output_type": "stream",
     "text": [
      "[I 2024-11-04 22:13:27,162] Trial 10 finished with value: 0.7527775854062316 and parameters: {'k': 13, 'min_k': 5, 'similarity': 'pearson', 'user_based': True}. Best is trial 6 with value: 0.7508079173948913.\n"
     ]
    },
    {
     "name": "stdout",
     "output_type": "stream",
     "text": [
      "Done computing similarity matrix.\n",
      "Computing the pearson similarity matrix...\n",
      "Done computing similarity matrix.\n",
      "Computing the pearson similarity matrix...\n"
     ]
    },
    {
     "name": "stderr",
     "output_type": "stream",
     "text": [
      "[I 2024-11-04 22:13:27,645] Trial 11 finished with value: 0.75119497356224 and parameters: {'k': 34, 'min_k': 3, 'similarity': 'pearson', 'user_based': False}. Best is trial 6 with value: 0.7508079173948913.\n"
     ]
    },
    {
     "name": "stdout",
     "output_type": "stream",
     "text": [
      "Done computing similarity matrix.\n",
      "Computing the pearson similarity matrix...\n",
      "Done computing similarity matrix.\n",
      "Computing the pearson similarity matrix...\n"
     ]
    },
    {
     "name": "stderr",
     "output_type": "stream",
     "text": [
      "[I 2024-11-04 22:13:28,156] Trial 12 finished with value: 0.7507526168989588 and parameters: {'k': 36, 'min_k': 1, 'similarity': 'pearson', 'user_based': False}. Best is trial 12 with value: 0.7507526168989588.\n"
     ]
    },
    {
     "name": "stdout",
     "output_type": "stream",
     "text": [
      "Done computing similarity matrix.\n",
      "Computing the pearson similarity matrix...\n",
      "Done computing similarity matrix.\n",
      "Computing the pearson similarity matrix...\n",
      "Done computing similarity matrix.\n",
      "Computing the pearson similarity matrix...\n",
      "Done computing similarity matrix.\n",
      "Computing the pearson similarity matrix...\n",
      "Done computing similarity matrix.\n",
      "Computing the pearson similarity matrix...\n"
     ]
    },
    {
     "name": "stderr",
     "output_type": "stream",
     "text": [
      "[I 2024-11-04 22:13:30,039] Trial 13 finished with value: 0.7512118460743137 and parameters: {'k': 27, 'min_k': 1, 'similarity': 'pearson', 'user_based': True}. Best is trial 12 with value: 0.7507526168989588.\n"
     ]
    },
    {
     "name": "stdout",
     "output_type": "stream",
     "text": [
      "Done computing similarity matrix.\n",
      "Computing the pearson similarity matrix...\n",
      "Done computing similarity matrix.\n",
      "Computing the pearson similarity matrix...\n"
     ]
    },
    {
     "name": "stderr",
     "output_type": "stream",
     "text": [
      "[I 2024-11-04 22:13:30,518] Trial 14 finished with value: 0.7512755018716607 and parameters: {'k': 37, 'min_k': 1, 'similarity': 'pearson', 'user_based': False}. Best is trial 12 with value: 0.7507526168989588.\n"
     ]
    },
    {
     "name": "stdout",
     "output_type": "stream",
     "text": [
      "Done computing similarity matrix.\n",
      "Computing the pearson similarity matrix...\n",
      "Done computing similarity matrix.\n",
      "Computing the pearson similarity matrix...\n",
      "Done computing similarity matrix.\n",
      "Computing the pearson similarity matrix...\n",
      "Done computing similarity matrix.\n",
      "Computing the pearson similarity matrix...\n"
     ]
    },
    {
     "name": "stderr",
     "output_type": "stream",
     "text": [
      "[I 2024-11-04 22:13:32,143] Trial 15 finished with value: 0.7514524479162521 and parameters: {'k': 17, 'min_k': 4, 'similarity': 'pearson', 'user_based': True}. Best is trial 12 with value: 0.7507526168989588.\n"
     ]
    },
    {
     "name": "stdout",
     "output_type": "stream",
     "text": [
      "Done computing similarity matrix.\n",
      "Computing the pearson similarity matrix...\n",
      "Done computing similarity matrix.\n",
      "Computing the pearson similarity matrix...\n",
      "Done computing similarity matrix.\n",
      "Computing the pearson similarity matrix...\n"
     ]
    },
    {
     "name": "stderr",
     "output_type": "stream",
     "text": [
      "[I 2024-11-04 22:13:33,939] Trial 16 finished with value: 0.7535614035847623 and parameters: {'k': 30, 'min_k': 1, 'similarity': 'pearson', 'user_based': True}. Best is trial 12 with value: 0.7507526168989588.\n"
     ]
    },
    {
     "name": "stdout",
     "output_type": "stream",
     "text": [
      "Done computing similarity matrix.\n",
      "Computing the pearson similarity matrix...\n",
      "Done computing similarity matrix.\n",
      "Computing the pearson similarity matrix...\n"
     ]
    },
    {
     "name": "stderr",
     "output_type": "stream",
     "text": [
      "[I 2024-11-04 22:13:34,408] Trial 17 finished with value: 0.7515239352651624 and parameters: {'k': 38, 'min_k': 3, 'similarity': 'pearson', 'user_based': False}. Best is trial 12 with value: 0.7507526168989588.\n"
     ]
    },
    {
     "name": "stdout",
     "output_type": "stream",
     "text": [
      "Done computing similarity matrix.\n",
      "Computing the pearson similarity matrix...\n",
      "Done computing similarity matrix.\n",
      "Computing the pearson similarity matrix...\n",
      "Done computing similarity matrix.\n",
      "Computing the pearson similarity matrix...\n",
      "Done computing similarity matrix.\n",
      "Computing the pearson similarity matrix...\n"
     ]
    },
    {
     "name": "stderr",
     "output_type": "stream",
     "text": [
      "[I 2024-11-04 22:13:34,893] Trial 18 finished with value: 0.7508947301063911 and parameters: {'k': 24, 'min_k': 2, 'similarity': 'pearson', 'user_based': False}. Best is trial 12 with value: 0.7507526168989588.\n"
     ]
    },
    {
     "name": "stdout",
     "output_type": "stream",
     "text": [
      "Done computing similarity matrix.\n",
      "Computing the pearson similarity matrix...\n",
      "Done computing similarity matrix.\n",
      "Computing the pearson similarity matrix...\n",
      "Done computing similarity matrix.\n",
      "Computing the pearson similarity matrix...\n"
     ]
    },
    {
     "name": "stderr",
     "output_type": "stream",
     "text": [
      "[I 2024-11-04 22:13:36,771] Trial 19 finished with value: 0.7514110946326077 and parameters: {'k': 31, 'min_k': 4, 'similarity': 'pearson', 'user_based': True}. Best is trial 12 with value: 0.7507526168989588.\n"
     ]
    },
    {
     "name": "stdout",
     "output_type": "stream",
     "text": [
      "Done computing similarity matrix.\n",
      "Computing the pearson similarity matrix...\n",
      "Done computing similarity matrix.\n",
      "Computing the pearson similarity matrix...\n"
     ]
    },
    {
     "name": "stderr",
     "output_type": "stream",
     "text": [
      "[I 2024-11-04 22:13:37,261] Trial 20 finished with value: 0.7514861125706814 and parameters: {'k': 41, 'min_k': 3, 'similarity': 'pearson', 'user_based': False}. Best is trial 12 with value: 0.7507526168989588.\n"
     ]
    },
    {
     "name": "stdout",
     "output_type": "stream",
     "text": [
      "Done computing similarity matrix.\n",
      "Computing the pearson similarity matrix...\n",
      "Done computing similarity matrix.\n",
      "Computing the pearson similarity matrix...\n"
     ]
    },
    {
     "name": "stderr",
     "output_type": "stream",
     "text": [
      "[I 2024-11-04 22:13:37,743] Trial 21 finished with value: 0.7505441782421457 and parameters: {'k': 22, 'min_k': 2, 'similarity': 'pearson', 'user_based': False}. Best is trial 21 with value: 0.7505441782421457.\n"
     ]
    },
    {
     "name": "stdout",
     "output_type": "stream",
     "text": [
      "Done computing similarity matrix.\n",
      "Computing the pearson similarity matrix...\n",
      "Done computing similarity matrix.\n",
      "Computing the pearson similarity matrix...\n",
      "Done computing similarity matrix.\n",
      "Computing the pearson similarity matrix...\n",
      "Done computing similarity matrix.\n",
      "Computing the pearson similarity matrix...\n",
      "Done computing similarity matrix.\n",
      "Computing the pearson similarity matrix...\n"
     ]
    },
    {
     "name": "stderr",
     "output_type": "stream",
     "text": [
      "[I 2024-11-04 22:13:38,342] Trial 22 finished with value: 0.7515859947571307 and parameters: {'k': 20, 'min_k': 1, 'similarity': 'pearson', 'user_based': False}. Best is trial 21 with value: 0.7505441782421457.\n"
     ]
    },
    {
     "name": "stdout",
     "output_type": "stream",
     "text": [
      "Done computing similarity matrix.\n",
      "Computing the pearson similarity matrix...\n",
      "Done computing similarity matrix.\n",
      "Computing the pearson similarity matrix...\n"
     ]
    },
    {
     "name": "stderr",
     "output_type": "stream",
     "text": [
      "[I 2024-11-04 22:13:38,830] Trial 23 finished with value: 0.7510269646171251 and parameters: {'k': 27, 'min_k': 2, 'similarity': 'pearson', 'user_based': False}. Best is trial 21 with value: 0.7505441782421457.\n"
     ]
    },
    {
     "name": "stdout",
     "output_type": "stream",
     "text": [
      "Done computing similarity matrix.\n",
      "Computing the pearson similarity matrix...\n",
      "Done computing similarity matrix.\n",
      "Computing the pearson similarity matrix...\n",
      "Done computing similarity matrix.\n",
      "Computing the pearson similarity matrix...\n",
      "Done computing similarity matrix.\n",
      "Computing the pearson similarity matrix...\n"
     ]
    },
    {
     "name": "stderr",
     "output_type": "stream",
     "text": [
      "[I 2024-11-04 22:13:39,339] Trial 24 finished with value: 0.7504876735673826 and parameters: {'k': 10, 'min_k': 2, 'similarity': 'pearson', 'user_based': False}. Best is trial 24 with value: 0.7504876735673826.\n"
     ]
    },
    {
     "name": "stdout",
     "output_type": "stream",
     "text": [
      "Done computing similarity matrix.\n",
      "Computing the pearson similarity matrix...\n",
      "Done computing similarity matrix.\n"
     ]
    },
    {
     "name": "stderr",
     "output_type": "stream",
     "text": [
      "[I 2024-11-04 22:13:39,932] Trial 25 finished with value: 0.7516054517860068 and parameters: {'k': 10, 'min_k': 1, 'similarity': 'pearson', 'user_based': False}. Best is trial 24 with value: 0.7504876735673826.\n"
     ]
    },
    {
     "name": "stdout",
     "output_type": "stream",
     "text": [
      "Computing the pearson similarity matrix...\n",
      "Done computing similarity matrix.\n",
      "Computing the pearson similarity matrix...\n",
      "Done computing similarity matrix.\n",
      "Computing the cosine similarity matrix...\n",
      "Done computing similarity matrix.\n",
      "Computing the cosine similarity matrix...\n",
      "Done computing similarity matrix.\n",
      "Computing the cosine similarity matrix...\n"
     ]
    },
    {
     "name": "stderr",
     "output_type": "stream",
     "text": [
      "[I 2024-11-04 22:13:40,378] Trial 26 finished with value: 0.7509747289845419 and parameters: {'k': 16, 'min_k': 2, 'similarity': 'cosine', 'user_based': False}. Best is trial 24 with value: 0.7504876735673826.\n"
     ]
    },
    {
     "name": "stdout",
     "output_type": "stream",
     "text": [
      "Done computing similarity matrix.\n",
      "Computing the pearson similarity matrix...\n",
      "Done computing similarity matrix.\n",
      "Computing the pearson similarity matrix...\n"
     ]
    },
    {
     "name": "stderr",
     "output_type": "stream",
     "text": [
      "[I 2024-11-04 22:13:40,880] Trial 27 finished with value: 0.7508527842843952 and parameters: {'k': 10, 'min_k': 1, 'similarity': 'pearson', 'user_based': False}. Best is trial 24 with value: 0.7504876735673826.\n"
     ]
    },
    {
     "name": "stdout",
     "output_type": "stream",
     "text": [
      "Done computing similarity matrix.\n",
      "Computing the pearson similarity matrix...\n",
      "Done computing similarity matrix.\n",
      "Computing the pearson similarity matrix...\n"
     ]
    },
    {
     "name": "stderr",
     "output_type": "stream",
     "text": [
      "[I 2024-11-04 22:13:41,459] Trial 28 finished with value: 0.7510997538831848 and parameters: {'k': 17, 'min_k': 3, 'similarity': 'pearson', 'user_based': False}. Best is trial 24 with value: 0.7504876735673826.\n"
     ]
    },
    {
     "name": "stdout",
     "output_type": "stream",
     "text": [
      "Done computing similarity matrix.\n",
      "Computing the pearson similarity matrix...\n",
      "Done computing similarity matrix.\n",
      "Computing the pearson similarity matrix...\n",
      "Done computing similarity matrix.\n",
      "Computing the pearson similarity matrix...\n",
      "Done computing similarity matrix.\n",
      "Computing the pearson similarity matrix...\n"
     ]
    },
    {
     "name": "stderr",
     "output_type": "stream",
     "text": [
      "[I 2024-11-04 22:13:41,997] Trial 29 finished with value: 0.7503584647035758 and parameters: {'k': 22, 'min_k': 2, 'similarity': 'pearson', 'user_based': False}. Best is trial 29 with value: 0.7503584647035758.\n"
     ]
    },
    {
     "name": "stdout",
     "output_type": "stream",
     "text": [
      "Done computing similarity matrix.\n",
      "Computing the pearson similarity matrix...\n",
      "Done computing similarity matrix.\n",
      "Computing the pearson similarity matrix...\n",
      "Done computing similarity matrix.\n",
      "Computing the pearson similarity matrix...\n"
     ]
    },
    {
     "name": "stderr",
     "output_type": "stream",
     "text": [
      "[I 2024-11-04 22:13:42,515] Trial 30 finished with value: 0.750450253802386 and parameters: {'k': 20, 'min_k': 2, 'similarity': 'pearson', 'user_based': False}. Best is trial 29 with value: 0.7503584647035758.\n"
     ]
    },
    {
     "name": "stdout",
     "output_type": "stream",
     "text": [
      "Done computing similarity matrix.\n",
      "Computing the pearson similarity matrix...\n",
      "Done computing similarity matrix.\n",
      "Computing the pearson similarity matrix...\n"
     ]
    },
    {
     "name": "stderr",
     "output_type": "stream",
     "text": [
      "[I 2024-11-04 22:13:43,101] Trial 31 finished with value: 0.7517735173392247 and parameters: {'k': 20, 'min_k': 2, 'similarity': 'pearson', 'user_based': False}. Best is trial 29 with value: 0.7503584647035758.\n"
     ]
    },
    {
     "name": "stdout",
     "output_type": "stream",
     "text": [
      "Done computing similarity matrix.\n",
      "Computing the pearson similarity matrix...\n",
      "Done computing similarity matrix.\n",
      "Computing the pearson similarity matrix...\n",
      "Done computing similarity matrix.\n",
      "Computing the pearson similarity matrix...\n",
      "Done computing similarity matrix.\n",
      "Computing the pearson similarity matrix...\n"
     ]
    },
    {
     "name": "stderr",
     "output_type": "stream",
     "text": [
      "[I 2024-11-04 22:13:43,596] Trial 32 finished with value: 0.7515155383374951 and parameters: {'k': 23, 'min_k': 2, 'similarity': 'pearson', 'user_based': False}. Best is trial 29 with value: 0.7503584647035758.\n"
     ]
    },
    {
     "name": "stdout",
     "output_type": "stream",
     "text": [
      "Done computing similarity matrix.\n",
      "Computing the pearson similarity matrix...\n",
      "Done computing similarity matrix.\n",
      "Computing the pearson similarity matrix...\n",
      "Done computing similarity matrix.\n",
      "Computing the pearson similarity matrix...\n",
      "Done computing similarity matrix.\n",
      "Computing the pearson similarity matrix...\n"
     ]
    },
    {
     "name": "stderr",
     "output_type": "stream",
     "text": [
      "[I 2024-11-04 22:13:44,120] Trial 33 finished with value: 0.7512837575374557 and parameters: {'k': 14, 'min_k': 3, 'similarity': 'pearson', 'user_based': False}. Best is trial 29 with value: 0.7503584647035758.\n"
     ]
    },
    {
     "name": "stdout",
     "output_type": "stream",
     "text": [
      "Done computing similarity matrix.\n",
      "Computing the cosine similarity matrix...\n",
      "Done computing similarity matrix.\n",
      "Computing the cosine similarity matrix...\n",
      "Done computing similarity matrix.\n",
      "Computing the cosine similarity matrix...\n"
     ]
    },
    {
     "name": "stderr",
     "output_type": "stream",
     "text": [
      "[I 2024-11-04 22:13:44,695] Trial 34 finished with value: 0.7513590926924891 and parameters: {'k': 20, 'min_k': 2, 'similarity': 'cosine', 'user_based': False}. Best is trial 29 with value: 0.7503584647035758.\n"
     ]
    },
    {
     "name": "stdout",
     "output_type": "stream",
     "text": [
      "Done computing similarity matrix.\n",
      "Computing the pearson similarity matrix...\n",
      "Done computing similarity matrix.\n",
      "Computing the pearson similarity matrix...\n"
     ]
    },
    {
     "name": "stderr",
     "output_type": "stream",
     "text": [
      "[I 2024-11-04 22:13:45,199] Trial 35 finished with value: 0.7507556144961004 and parameters: {'k': 28, 'min_k': 3, 'similarity': 'pearson', 'user_based': False}. Best is trial 29 with value: 0.7503584647035758.\n"
     ]
    },
    {
     "name": "stdout",
     "output_type": "stream",
     "text": [
      "Done computing similarity matrix.\n",
      "Computing the pearson similarity matrix...\n",
      "Done computing similarity matrix.\n",
      "Computing the cosine similarity matrix...\n",
      "Done computing similarity matrix.\n",
      "Computing the cosine similarity matrix...\n",
      "Done computing similarity matrix.\n",
      "Computing the cosine similarity matrix...\n"
     ]
    },
    {
     "name": "stderr",
     "output_type": "stream",
     "text": [
      "[I 2024-11-04 22:13:45,652] Trial 36 finished with value: 0.7507093459790163 and parameters: {'k': 22, 'min_k': 2, 'similarity': 'cosine', 'user_based': False}. Best is trial 29 with value: 0.7503584647035758.\n"
     ]
    },
    {
     "name": "stdout",
     "output_type": "stream",
     "text": [
      "Done computing similarity matrix.\n",
      "Computing the pearson similarity matrix...\n",
      "Done computing similarity matrix.\n",
      "Computing the pearson similarity matrix...\n",
      "Done computing similarity matrix.\n",
      "Computing the pearson similarity matrix...\n"
     ]
    },
    {
     "name": "stderr",
     "output_type": "stream",
     "text": [
      "[I 2024-11-04 22:13:46,257] Trial 37 finished with value: 0.7506643019308833 and parameters: {'k': 13, 'min_k': 2, 'similarity': 'pearson', 'user_based': False}. Best is trial 29 with value: 0.7503584647035758.\n"
     ]
    },
    {
     "name": "stdout",
     "output_type": "stream",
     "text": [
      "Done computing similarity matrix.\n",
      "Computing the pearson similarity matrix...\n",
      "Done computing similarity matrix.\n",
      "Computing the pearson similarity matrix...\n"
     ]
    },
    {
     "name": "stderr",
     "output_type": "stream",
     "text": [
      "[I 2024-11-04 22:13:46,795] Trial 38 finished with value: 0.7518459154443083 and parameters: {'k': 25, 'min_k': 2, 'similarity': 'pearson', 'user_based': False}. Best is trial 29 with value: 0.7503584647035758.\n"
     ]
    },
    {
     "name": "stdout",
     "output_type": "stream",
     "text": [
      "Done computing similarity matrix.\n",
      "Computing the pearson similarity matrix...\n",
      "Done computing similarity matrix.\n",
      "Computing the cosine similarity matrix...\n",
      "Done computing similarity matrix.\n",
      "Computing the cosine similarity matrix...\n"
     ]
    },
    {
     "name": "stderr",
     "output_type": "stream",
     "text": [
      "[I 2024-11-04 22:13:47,242] Trial 39 finished with value: 0.7512978601040524 and parameters: {'k': 18, 'min_k': 3, 'similarity': 'cosine', 'user_based': False}. Best is trial 29 with value: 0.7503584647035758.\n"
     ]
    },
    {
     "name": "stdout",
     "output_type": "stream",
     "text": [
      "Done computing similarity matrix.\n",
      "Computing the cosine similarity matrix...\n",
      "Done computing similarity matrix.\n",
      "Computing the pearson similarity matrix...\n",
      "Done computing similarity matrix.\n",
      "Computing the pearson similarity matrix...\n"
     ]
    },
    {
     "name": "stderr",
     "output_type": "stream",
     "text": [
      "[I 2024-11-04 22:13:47,857] Trial 40 finished with value: 0.7512398386463525 and parameters: {'k': 25, 'min_k': 2, 'similarity': 'pearson', 'user_based': False}. Best is trial 29 with value: 0.7503584647035758.\n"
     ]
    },
    {
     "name": "stdout",
     "output_type": "stream",
     "text": [
      "Done computing similarity matrix.\n",
      "Computing the pearson similarity matrix...\n",
      "Done computing similarity matrix.\n",
      "Computing the pearson similarity matrix...\n",
      "Done computing similarity matrix.\n",
      "Computing the pearson similarity matrix...\n",
      "Done computing similarity matrix.\n",
      "Computing the pearson similarity matrix...\n",
      "Done computing similarity matrix.\n"
     ]
    },
    {
     "name": "stderr",
     "output_type": "stream",
     "text": [
      "[I 2024-11-04 22:13:48,409] Trial 41 finished with value: 0.7514998695330709 and parameters: {'k': 12, 'min_k': 2, 'similarity': 'pearson', 'user_based': False}. Best is trial 29 with value: 0.7503584647035758.\n"
     ]
    },
    {
     "name": "stdout",
     "output_type": "stream",
     "text": [
      "Computing the pearson similarity matrix...\n",
      "Done computing similarity matrix.\n",
      "Computing the pearson similarity matrix...\n",
      "Done computing similarity matrix.\n",
      "Computing the pearson similarity matrix...\n",
      "Done computing similarity matrix.\n"
     ]
    },
    {
     "name": "stderr",
     "output_type": "stream",
     "text": [
      "[I 2024-11-04 22:13:49,017] Trial 42 finished with value: 0.7510345433429798 and parameters: {'k': 15, 'min_k': 2, 'similarity': 'pearson', 'user_based': False}. Best is trial 29 with value: 0.7503584647035758.\n"
     ]
    },
    {
     "name": "stdout",
     "output_type": "stream",
     "text": [
      "Computing the pearson similarity matrix...\n",
      "Done computing similarity matrix.\n",
      "Computing the pearson similarity matrix...\n"
     ]
    },
    {
     "name": "stderr",
     "output_type": "stream",
     "text": [
      "[I 2024-11-04 22:13:49,533] Trial 43 finished with value: 0.751078683678764 and parameters: {'k': 12, 'min_k': 2, 'similarity': 'pearson', 'user_based': False}. Best is trial 29 with value: 0.7503584647035758.\n"
     ]
    },
    {
     "name": "stdout",
     "output_type": "stream",
     "text": [
      "Done computing similarity matrix.\n",
      "Computing the pearson similarity matrix...\n",
      "Done computing similarity matrix.\n",
      "Computing the pearson similarity matrix...\n",
      "Done computing similarity matrix.\n",
      "Computing the pearson similarity matrix...\n",
      "Done computing similarity matrix.\n",
      "Computing the pearson similarity matrix...\n"
     ]
    },
    {
     "name": "stderr",
     "output_type": "stream",
     "text": [
      "[I 2024-11-04 22:13:50,054] Trial 44 finished with value: 0.7507701188465074 and parameters: {'k': 18, 'min_k': 2, 'similarity': 'pearson', 'user_based': False}. Best is trial 29 with value: 0.7503584647035758.\n"
     ]
    },
    {
     "name": "stdout",
     "output_type": "stream",
     "text": [
      "Done computing similarity matrix.\n",
      "Computing the pearson similarity matrix...\n",
      "Done computing similarity matrix.\n",
      "Computing the pearson similarity matrix...\n"
     ]
    },
    {
     "name": "stderr",
     "output_type": "stream",
     "text": [
      "[I 2024-11-04 22:13:50,678] Trial 45 finished with value: 0.7515771817502164 and parameters: {'k': 15, 'min_k': 2, 'similarity': 'pearson', 'user_based': False}. Best is trial 29 with value: 0.7503584647035758.\n"
     ]
    },
    {
     "name": "stdout",
     "output_type": "stream",
     "text": [
      "Done computing similarity matrix.\n",
      "Computing the pearson similarity matrix...\n",
      "Done computing similarity matrix.\n",
      "Computing the pearson similarity matrix...\n",
      "Done computing similarity matrix.\n",
      "Computing the pearson similarity matrix...\n",
      "Done computing similarity matrix.\n",
      "Computing the pearson similarity matrix...\n"
     ]
    },
    {
     "name": "stderr",
     "output_type": "stream",
     "text": [
      "[I 2024-11-04 22:13:51,206] Trial 46 finished with value: 0.7516559578387397 and parameters: {'k': 13, 'min_k': 3, 'similarity': 'pearson', 'user_based': False}. Best is trial 29 with value: 0.7503584647035758.\n"
     ]
    },
    {
     "name": "stdout",
     "output_type": "stream",
     "text": [
      "Done computing similarity matrix.\n",
      "Computing the cosine similarity matrix...\n",
      "Done computing similarity matrix.\n",
      "Computing the cosine similarity matrix...\n"
     ]
    },
    {
     "name": "stderr",
     "output_type": "stream",
     "text": [
      "[I 2024-11-04 22:13:51,660] Trial 47 finished with value: 0.7512949922635906 and parameters: {'k': 21, 'min_k': 1, 'similarity': 'cosine', 'user_based': False}. Best is trial 29 with value: 0.7503584647035758.\n"
     ]
    },
    {
     "name": "stdout",
     "output_type": "stream",
     "text": [
      "Done computing similarity matrix.\n",
      "Computing the cosine similarity matrix...\n",
      "Done computing similarity matrix.\n",
      "Computing the pearson similarity matrix...\n",
      "Done computing similarity matrix.\n",
      "Computing the pearson similarity matrix...\n",
      "Done computing similarity matrix.\n"
     ]
    },
    {
     "name": "stderr",
     "output_type": "stream",
     "text": [
      "[I 2024-11-04 22:13:52,272] Trial 48 finished with value: 0.7508303378098361 and parameters: {'k': 11, 'min_k': 2, 'similarity': 'pearson', 'user_based': False}. Best is trial 29 with value: 0.7503584647035758.\n"
     ]
    },
    {
     "name": "stdout",
     "output_type": "stream",
     "text": [
      "Computing the pearson similarity matrix...\n",
      "Done computing similarity matrix.\n",
      "Computing the pearson similarity matrix...\n",
      "Done computing similarity matrix.\n",
      "Computing the pearson similarity matrix...\n",
      "Done computing similarity matrix.\n",
      "Computing the pearson similarity matrix...\n"
     ]
    },
    {
     "name": "stderr",
     "output_type": "stream",
     "text": [
      "[I 2024-11-04 22:13:54,062] Trial 49 finished with value: 0.7511403491240448 and parameters: {'k': 18, 'min_k': 1, 'similarity': 'pearson', 'user_based': True}. Best is trial 29 with value: 0.7503584647035758.\n"
     ]
    },
    {
     "name": "stdout",
     "output_type": "stream",
     "text": [
      "Done computing similarity matrix.\n"
     ]
    }
   ],
   "source": [
    "# Create a study with persistent storage\n",
    "study = optuna.create_study(\n",
    "    direction=\"minimize\",\n",
    "    storage=\"sqlite:///movie_recommendation_study.db\",  # SQLite storage\n",
    "    study_name=\"movie-recommendation-study\",\n",
    "    load_if_exists=True  # Load if the study already exists\n",
    ")\n",
    "\n",
    "# Run the study with the defined objective function\n",
    "study.optimize(objective, n_trials=50)\n"
   ]
  },
  {
   "cell_type": "code",
   "execution_count": null,
   "id": "d0b08635-211d-4175-9aca-94349d9195fd",
   "metadata": {},
   "outputs": [
    {
     "name": "stdout",
     "output_type": "stream",
     "text": [
      "Listening on http://127.0.0.1:8080/\n",
      "Hit Ctrl-C to quit.\n",
      "\n",
      "127.0.0.1 - - [04/Nov/2024 22:15:32] \"GET / HTTP/1.1\" 302 0\n",
      "127.0.0.1 - - [04/Nov/2024 22:15:32] \"GET /dashboard HTTP/1.1\" 200 4145\n",
      "127.0.0.1 - - [04/Nov/2024 22:15:32] \"GET /static/bundle.js HTTP/1.1\" 200 4159599\n",
      "127.0.0.1 - - [04/Nov/2024 22:15:33] \"GET /api/studies HTTP/1.1\" 200 144\n",
      "127.0.0.1 - - [04/Nov/2024 22:15:33] \"GET /favicon.ico HTTP/1.1\" 200 7670\n",
      "127.0.0.1 - - [04/Nov/2024 22:15:35] \"GET /api/meta HTTP/1.1\" 200 60\n",
      "/opt/anaconda3/lib/python3.11/site-packages/optuna_dashboard/_importance.py:75: ExperimentalWarning: PedAnovaImportanceEvaluator is experimental (supported from v3.6.0). The interface can change in the future.\n",
      "  return get_param_importances(study, target=target, evaluator=PedAnovaImportanceEvaluator())\n",
      "127.0.0.1 - - [04/Nov/2024 22:15:35] \"GET /api/studies/1?after=0 HTTP/1.1\" 200 64368\n",
      "/opt/anaconda3/lib/python3.11/site-packages/optuna/importance/_ped_anova/evaluator.py:150: UserWarning: PedAnovaImportanceEvaluator computes the importances of params to achieve low `target` values. If this is not what you want, please modify target, e.g., by multiplying the output by -1.\n",
      "  warnings.warn(\n",
      "127.0.0.1 - - [04/Nov/2024 22:15:36] \"GET /api/studies/1/param_importances HTTP/1.1\" 200 379\n",
      "127.0.0.1 - - [04/Nov/2024 22:15:36] \"GET /api/studies/1/param_importances HTTP/1.1\" 200 379\n",
      "127.0.0.1 - - [04/Nov/2024 22:15:46] \"GET /api/studies/1?after=50 HTTP/1.1\" 200 2666\n",
      "127.0.0.1 - - [04/Nov/2024 22:15:56] \"GET /api/studies/1?after=50 HTTP/1.1\" 200 2666\n",
      "127.0.0.1 - - [04/Nov/2024 22:16:06] \"GET /api/studies/1?after=50 HTTP/1.1\" 200 2666\n",
      "127.0.0.1 - - [04/Nov/2024 22:16:17] \"GET /api/studies/1?after=50 HTTP/1.1\" 200 2666\n",
      "127.0.0.1 - - [04/Nov/2024 22:16:27] \"GET /api/studies/1?after=50 HTTP/1.1\" 200 2666\n",
      "127.0.0.1 - - [04/Nov/2024 22:16:38] \"GET /api/studies/1?after=50 HTTP/1.1\" 200 2666\n",
      "127.0.0.1 - - [04/Nov/2024 22:16:49] \"GET /api/studies/1?after=50 HTTP/1.1\" 200 2666\n",
      "127.0.0.1 - - [04/Nov/2024 22:17:00] \"GET /api/studies/1?after=50 HTTP/1.1\" 200 2666\n",
      "127.0.0.1 - - [04/Nov/2024 22:17:11] \"GET /api/studies/1?after=50 HTTP/1.1\" 200 2666\n",
      "127.0.0.1 - - [04/Nov/2024 22:17:22] \"GET /api/studies/1?after=50 HTTP/1.1\" 200 2666\n",
      "127.0.0.1 - - [04/Nov/2024 22:17:33] \"GET /api/studies/1?after=50 HTTP/1.1\" 200 2666\n",
      "127.0.0.1 - - [04/Nov/2024 22:17:43] \"GET /api/studies/1?after=50 HTTP/1.1\" 200 2666\n",
      "127.0.0.1 - - [04/Nov/2024 22:17:54] \"GET /api/studies/1?after=50 HTTP/1.1\" 200 2666\n",
      "127.0.0.1 - - [04/Nov/2024 22:18:04] \"GET /api/studies/1?after=50 HTTP/1.1\" 200 2666\n",
      "127.0.0.1 - - [04/Nov/2024 22:18:15] \"GET /api/studies/1?after=50 HTTP/1.1\" 200 2666\n",
      "127.0.0.1 - - [04/Nov/2024 22:18:26] \"GET /api/studies/1?after=50 HTTP/1.1\" 200 2666\n",
      "127.0.0.1 - - [04/Nov/2024 22:18:36] \"GET /api/studies/1?after=50 HTTP/1.1\" 200 2666\n",
      "127.0.0.1 - - [04/Nov/2024 22:18:40] \"GET /favicon.ico HTTP/1.1\" 304 0\n",
      "127.0.0.1 - - [04/Nov/2024 22:18:43] \"GET /api/studies/1?after=50 HTTP/1.1\" 200 2666\n",
      "127.0.0.1 - - [04/Nov/2024 22:18:45] \"GET /api/studies/1?after=50 HTTP/1.1\" 200 2666\n",
      "127.0.0.1 - - [04/Nov/2024 22:18:47] \"GET /api/studies/1?after=50 HTTP/1.1\" 200 2666\n",
      "127.0.0.1 - - [04/Nov/2024 22:18:49] \"GET /api/studies/1?after=50 HTTP/1.1\" 200 2666\n",
      "127.0.0.1 - - [04/Nov/2024 22:18:51] \"GET /api/studies/1?after=50 HTTP/1.1\" 200 2666\n",
      "127.0.0.1 - - [04/Nov/2024 22:18:53] \"GET /api/studies/1?after=50 HTTP/1.1\" 200 2666\n",
      "127.0.0.1 - - [04/Nov/2024 22:18:55] \"GET /api/studies/1?after=50 HTTP/1.1\" 200 2666\n",
      "127.0.0.1 - - [04/Nov/2024 22:18:57] \"GET /api/studies/1?after=50 HTTP/1.1\" 200 2666\n",
      "127.0.0.1 - - [04/Nov/2024 22:18:59] \"GET /api/studies/1?after=50 HTTP/1.1\" 200 2666\n",
      "127.0.0.1 - - [04/Nov/2024 22:19:02] \"GET /api/studies/1?after=50 HTTP/1.1\" 200 2666\n",
      "127.0.0.1 - - [04/Nov/2024 22:19:04] \"GET /api/studies/1?after=50 HTTP/1.1\" 200 2666\n",
      "127.0.0.1 - - [04/Nov/2024 22:19:06] \"GET /api/studies/1?after=50 HTTP/1.1\" 200 2666\n",
      "127.0.0.1 - - [04/Nov/2024 22:19:08] \"GET /api/studies/1?after=50 HTTP/1.1\" 200 2666\n",
      "127.0.0.1 - - [04/Nov/2024 22:19:10] \"GET /api/studies/1?after=50 HTTP/1.1\" 200 2666\n",
      "127.0.0.1 - - [04/Nov/2024 22:19:12] \"GET /api/studies/1?after=50 HTTP/1.1\" 200 2666\n",
      "127.0.0.1 - - [04/Nov/2024 22:19:14] \"GET /api/studies/1?after=50 HTTP/1.1\" 200 2666\n",
      "127.0.0.1 - - [04/Nov/2024 22:19:16] \"GET /api/studies/1?after=50 HTTP/1.1\" 200 2666\n",
      "127.0.0.1 - - [04/Nov/2024 22:19:19] \"GET /api/studies/1?after=50 HTTP/1.1\" 200 2666\n",
      "127.0.0.1 - - [04/Nov/2024 22:19:22] \"GET /api/studies/1?after=50 HTTP/1.1\" 200 2666\n",
      "127.0.0.1 - - [04/Nov/2024 22:19:25] \"GET /api/studies/1?after=50 HTTP/1.1\" 200 2666\n",
      "127.0.0.1 - - [04/Nov/2024 22:19:28] \"GET /api/studies/1?after=50 HTTP/1.1\" 200 2666\n",
      "127.0.0.1 - - [04/Nov/2024 22:19:31] \"GET /api/studies/1?after=50 HTTP/1.1\" 200 2666\n",
      "127.0.0.1 - - [04/Nov/2024 22:19:34] \"GET /api/studies/1?after=50 HTTP/1.1\" 200 2666\n",
      "127.0.0.1 - - [04/Nov/2024 22:19:37] \"GET /api/studies/1?after=50 HTTP/1.1\" 200 2666\n",
      "127.0.0.1 - - [04/Nov/2024 22:19:40] \"GET /api/studies/1?after=50 HTTP/1.1\" 200 2666\n",
      "127.0.0.1 - - [04/Nov/2024 22:19:43] \"GET /api/studies/1?after=50 HTTP/1.1\" 200 2666\n",
      "127.0.0.1 - - [04/Nov/2024 22:19:46] \"GET /api/studies/1?after=50 HTTP/1.1\" 200 2666\n",
      "127.0.0.1 - - [04/Nov/2024 22:19:49] \"GET /api/studies/1?after=50 HTTP/1.1\" 200 2666\n",
      "127.0.0.1 - - [04/Nov/2024 22:19:52] \"GET /api/studies/1?after=50 HTTP/1.1\" 200 2666\n",
      "127.0.0.1 - - [04/Nov/2024 22:19:55] \"GET /api/studies/1?after=50 HTTP/1.1\" 200 2666\n",
      "127.0.0.1 - - [04/Nov/2024 22:19:58] \"GET /api/studies/1?after=50 HTTP/1.1\" 200 2666\n",
      "127.0.0.1 - - [04/Nov/2024 22:20:01] \"GET /api/studies/1?after=50 HTTP/1.1\" 200 2666\n",
      "127.0.0.1 - - [04/Nov/2024 22:20:04] \"GET /api/studies/1?after=50 HTTP/1.1\" 200 2666\n",
      "127.0.0.1 - - [04/Nov/2024 22:20:07] \"GET /api/studies/1?after=50 HTTP/1.1\" 200 2666\n",
      "127.0.0.1 - - [04/Nov/2024 22:20:10] \"GET /api/studies/1?after=50 HTTP/1.1\" 200 2666\n",
      "127.0.0.1 - - [04/Nov/2024 22:20:13] \"GET /api/studies/1?after=50 HTTP/1.1\" 200 2666\n",
      "127.0.0.1 - - [04/Nov/2024 22:20:16] \"GET /api/studies/1?after=50 HTTP/1.1\" 200 2666\n",
      "127.0.0.1 - - [04/Nov/2024 22:20:19] \"GET /api/studies/1?after=50 HTTP/1.1\" 200 2666\n",
      "127.0.0.1 - - [04/Nov/2024 22:20:22] \"GET /api/studies/1?after=50 HTTP/1.1\" 200 2666\n",
      "127.0.0.1 - - [04/Nov/2024 22:20:24] \"GET /api/studies/1?after=50 HTTP/1.1\" 200 2666\n",
      "127.0.0.1 - - [04/Nov/2024 22:20:26] \"GET /api/studies/1?after=50 HTTP/1.1\" 200 2666\n",
      "127.0.0.1 - - [04/Nov/2024 22:20:29] \"GET /api/studies/1?after=50 HTTP/1.1\" 200 2666\n",
      "127.0.0.1 - - [04/Nov/2024 22:20:32] \"GET /api/studies/1?after=50 HTTP/1.1\" 200 2666\n",
      "127.0.0.1 - - [04/Nov/2024 22:20:35] \"GET /api/studies/1?after=50 HTTP/1.1\" 200 2666\n",
      "127.0.0.1 - - [04/Nov/2024 22:20:38] \"GET /api/studies/1?after=50 HTTP/1.1\" 200 2666\n",
      "127.0.0.1 - - [04/Nov/2024 22:20:41] \"GET /api/studies/1?after=50 HTTP/1.1\" 200 2666\n",
      "127.0.0.1 - - [04/Nov/2024 22:20:44] \"GET /api/studies/1?after=50 HTTP/1.1\" 200 2666\n",
      "127.0.0.1 - - [04/Nov/2024 22:20:47] \"GET /api/studies/1?after=50 HTTP/1.1\" 200 2666\n",
      "127.0.0.1 - - [04/Nov/2024 22:20:50] \"GET /api/studies/1?after=50 HTTP/1.1\" 200 2666\n",
      "127.0.0.1 - - [04/Nov/2024 22:20:53] \"GET /api/studies/1?after=50 HTTP/1.1\" 200 2666\n",
      "127.0.0.1 - - [04/Nov/2024 22:20:56] \"GET /api/studies/1?after=50 HTTP/1.1\" 200 2666\n",
      "127.0.0.1 - - [04/Nov/2024 22:20:59] \"GET /api/studies/1?after=50 HTTP/1.1\" 200 2666\n",
      "127.0.0.1 - - [04/Nov/2024 22:21:02] \"GET /api/studies/1?after=50 HTTP/1.1\" 200 2666\n",
      "127.0.0.1 - - [04/Nov/2024 22:21:05] \"GET /api/studies/1?after=50 HTTP/1.1\" 200 2666\n",
      "127.0.0.1 - - [04/Nov/2024 22:21:08] \"GET /api/studies/1?after=50 HTTP/1.1\" 200 2666\n",
      "127.0.0.1 - - [04/Nov/2024 22:21:11] \"GET /api/studies/1?after=50 HTTP/1.1\" 200 2666\n",
      "127.0.0.1 - - [04/Nov/2024 22:21:14] \"GET /api/studies/1?after=50 HTTP/1.1\" 200 2666\n",
      "127.0.0.1 - - [04/Nov/2024 22:21:17] \"GET /api/studies/1?after=50 HTTP/1.1\" 200 2666\n",
      "127.0.0.1 - - [04/Nov/2024 22:21:20] \"GET /api/studies/1?after=50 HTTP/1.1\" 200 2666\n",
      "127.0.0.1 - - [04/Nov/2024 22:21:23] \"GET /api/studies/1?after=50 HTTP/1.1\" 200 2666\n",
      "127.0.0.1 - - [04/Nov/2024 22:21:26] \"GET /api/studies/1?after=50 HTTP/1.1\" 200 2666\n",
      "127.0.0.1 - - [04/Nov/2024 22:21:29] \"GET /api/studies/1?after=50 HTTP/1.1\" 200 2666\n",
      "127.0.0.1 - - [04/Nov/2024 22:21:32] \"GET /api/studies/1?after=50 HTTP/1.1\" 200 2666\n",
      "127.0.0.1 - - [04/Nov/2024 22:21:35] \"GET /api/studies/1?after=50 HTTP/1.1\" 200 2666\n",
      "127.0.0.1 - - [04/Nov/2024 22:21:38] \"GET /api/studies/1?after=50 HTTP/1.1\" 200 2666\n",
      "127.0.0.1 - - [04/Nov/2024 22:21:41] \"GET /api/studies/1?after=50 HTTP/1.1\" 200 2666\n",
      "127.0.0.1 - - [04/Nov/2024 22:21:44] \"GET /api/studies/1?after=50 HTTP/1.1\" 200 2666\n",
      "127.0.0.1 - - [04/Nov/2024 22:21:47] \"GET /api/studies/1?after=50 HTTP/1.1\" 200 2666\n",
      "127.0.0.1 - - [04/Nov/2024 22:21:50] \"GET /api/studies/1?after=50 HTTP/1.1\" 200 2666\n",
      "127.0.0.1 - - [04/Nov/2024 22:21:53] \"GET /api/studies/1?after=50 HTTP/1.1\" 200 2666\n",
      "127.0.0.1 - - [04/Nov/2024 22:21:56] \"GET /api/studies/1?after=50 HTTP/1.1\" 200 2666\n",
      "127.0.0.1 - - [04/Nov/2024 22:21:59] \"GET /api/studies/1?after=50 HTTP/1.1\" 200 2666\n",
      "127.0.0.1 - - [04/Nov/2024 22:22:02] \"GET /api/studies/1?after=50 HTTP/1.1\" 200 2666\n",
      "127.0.0.1 - - [04/Nov/2024 22:22:05] \"GET /api/studies/1?after=50 HTTP/1.1\" 200 2666\n",
      "127.0.0.1 - - [04/Nov/2024 22:22:08] \"GET /api/studies/1?after=50 HTTP/1.1\" 200 2666\n",
      "127.0.0.1 - - [04/Nov/2024 22:22:11] \"GET /api/studies/1?after=50 HTTP/1.1\" 200 2666\n",
      "127.0.0.1 - - [04/Nov/2024 22:22:14] \"GET /api/studies/1?after=50 HTTP/1.1\" 200 2666\n",
      "127.0.0.1 - - [04/Nov/2024 22:22:17] \"GET /api/studies/1?after=50 HTTP/1.1\" 200 2666\n",
      "127.0.0.1 - - [04/Nov/2024 22:22:20] \"GET /api/studies/1?after=50 HTTP/1.1\" 200 2666\n",
      "127.0.0.1 - - [04/Nov/2024 22:22:23] \"GET /api/studies/1?after=50 HTTP/1.1\" 200 2666\n",
      "127.0.0.1 - - [04/Nov/2024 22:22:26] \"GET /api/studies/1?after=50 HTTP/1.1\" 200 2666\n",
      "127.0.0.1 - - [04/Nov/2024 22:22:29] \"GET /api/studies/1?after=50 HTTP/1.1\" 200 2666\n",
      "127.0.0.1 - - [04/Nov/2024 22:22:32] \"GET /api/studies/1?after=50 HTTP/1.1\" 200 2666\n",
      "127.0.0.1 - - [04/Nov/2024 22:22:35] \"GET /api/studies/1?after=50 HTTP/1.1\" 200 2666\n",
      "127.0.0.1 - - [04/Nov/2024 22:22:38] \"GET /api/studies/1?after=50 HTTP/1.1\" 200 2666\n",
      "127.0.0.1 - - [04/Nov/2024 22:22:41] \"GET /api/studies/1?after=50 HTTP/1.1\" 200 2666\n",
      "127.0.0.1 - - [04/Nov/2024 22:22:44] \"GET /api/studies/1?after=50 HTTP/1.1\" 200 2666\n",
      "127.0.0.1 - - [04/Nov/2024 22:22:47] \"GET /api/studies/1?after=50 HTTP/1.1\" 200 2666\n",
      "127.0.0.1 - - [04/Nov/2024 22:22:50] \"GET /api/studies/1?after=50 HTTP/1.1\" 200 2666\n",
      "127.0.0.1 - - [04/Nov/2024 22:22:53] \"GET /api/studies/1?after=50 HTTP/1.1\" 200 2666\n",
      "127.0.0.1 - - [04/Nov/2024 22:22:56] \"GET /api/studies/1?after=50 HTTP/1.1\" 200 2666\n",
      "127.0.0.1 - - [04/Nov/2024 22:22:59] \"GET /api/studies/1?after=50 HTTP/1.1\" 200 2666\n",
      "127.0.0.1 - - [04/Nov/2024 22:23:02] \"GET /api/studies/1?after=50 HTTP/1.1\" 200 2666\n",
      "127.0.0.1 - - [04/Nov/2024 22:23:05] \"GET /api/studies/1?after=50 HTTP/1.1\" 200 2666\n",
      "127.0.0.1 - - [04/Nov/2024 22:23:08] \"GET /api/studies/1?after=50 HTTP/1.1\" 200 2666\n",
      "127.0.0.1 - - [04/Nov/2024 22:23:11] \"GET /api/studies/1?after=50 HTTP/1.1\" 200 2666\n",
      "127.0.0.1 - - [04/Nov/2024 22:23:14] \"GET /api/studies/1?after=50 HTTP/1.1\" 200 2666\n",
      "127.0.0.1 - - [04/Nov/2024 22:23:17] \"GET /api/studies/1?after=50 HTTP/1.1\" 200 2666\n",
      "127.0.0.1 - - [04/Nov/2024 22:23:20] \"GET /api/studies/1?after=50 HTTP/1.1\" 200 2666\n",
      "127.0.0.1 - - [04/Nov/2024 22:23:22] \"GET /api/studies/1?after=50 HTTP/1.1\" 200 2666\n",
      "127.0.0.1 - - [04/Nov/2024 22:23:25] \"GET /api/studies/1?after=50 HTTP/1.1\" 200 2666\n",
      "127.0.0.1 - - [04/Nov/2024 22:23:27] \"GET /api/studies/1?after=50 HTTP/1.1\" 200 2666\n",
      "127.0.0.1 - - [04/Nov/2024 22:23:29] \"GET /api/studies/1?after=50 HTTP/1.1\" 200 2666\n",
      "127.0.0.1 - - [04/Nov/2024 22:23:31] \"GET /api/studies/1?after=50 HTTP/1.1\" 200 2666\n",
      "127.0.0.1 - - [04/Nov/2024 22:23:33] \"GET /api/studies/1?after=50 HTTP/1.1\" 200 2666\n",
      "127.0.0.1 - - [04/Nov/2024 22:23:34] \"GET /favicon.ico HTTP/1.1\" 304 0\n",
      "127.0.0.1 - - [04/Nov/2024 22:23:35] \"GET /api/studies/1?after=50 HTTP/1.1\" 200 2666\n",
      "127.0.0.1 - - [04/Nov/2024 22:23:37] \"GET /api/studies/1?after=50 HTTP/1.1\" 200 2666\n",
      "127.0.0.1 - - [04/Nov/2024 22:23:39] \"GET /api/studies/1?after=50 HTTP/1.1\" 200 2666\n",
      "127.0.0.1 - - [04/Nov/2024 22:23:41] \"GET /api/studies/1?after=50 HTTP/1.1\" 200 2666\n",
      "127.0.0.1 - - [04/Nov/2024 22:23:43] \"GET /api/studies/1?after=50 HTTP/1.1\" 200 2666\n",
      "127.0.0.1 - - [04/Nov/2024 22:23:45] \"GET /api/studies/1?after=50 HTTP/1.1\" 200 2666\n",
      "127.0.0.1 - - [04/Nov/2024 22:23:47] \"GET /api/studies/1?after=50 HTTP/1.1\" 200 2666\n",
      "127.0.0.1 - - [04/Nov/2024 22:23:49] \"GET /api/studies/1?after=50 HTTP/1.1\" 200 2666\n",
      "127.0.0.1 - - [04/Nov/2024 22:23:51] \"GET /api/studies/1?after=50 HTTP/1.1\" 200 2666\n",
      "127.0.0.1 - - [04/Nov/2024 22:23:53] \"GET /api/studies/1?after=50 HTTP/1.1\" 200 2666\n",
      "127.0.0.1 - - [04/Nov/2024 22:23:56] \"GET /api/studies/1?after=50 HTTP/1.1\" 200 2666\n",
      "127.0.0.1 - - [04/Nov/2024 22:23:58] \"GET /api/studies/1?after=50 HTTP/1.1\" 200 2666\n",
      "127.0.0.1 - - [04/Nov/2024 22:24:00] \"GET /api/studies/1?after=50 HTTP/1.1\" 200 2666\n",
      "127.0.0.1 - - [04/Nov/2024 22:24:02] \"GET /api/studies/1?after=50 HTTP/1.1\" 200 2666\n",
      "127.0.0.1 - - [04/Nov/2024 22:24:04] \"GET /api/studies/1?after=50 HTTP/1.1\" 200 2666\n",
      "127.0.0.1 - - [04/Nov/2024 22:24:06] \"GET /api/studies/1?after=50 HTTP/1.1\" 200 2666\n",
      "127.0.0.1 - - [04/Nov/2024 22:24:08] \"GET /api/studies/1?after=50 HTTP/1.1\" 200 2666\n",
      "127.0.0.1 - - [04/Nov/2024 22:24:10] \"GET /api/studies/1?after=50 HTTP/1.1\" 200 2666\n",
      "127.0.0.1 - - [04/Nov/2024 22:24:12] \"GET /api/studies/1?after=50 HTTP/1.1\" 200 2666\n",
      "127.0.0.1 - - [04/Nov/2024 22:24:14] \"GET /api/studies/1?after=50 HTTP/1.1\" 200 2666\n",
      "127.0.0.1 - - [04/Nov/2024 22:24:16] \"GET /api/studies/1?after=50 HTTP/1.1\" 200 2666\n",
      "127.0.0.1 - - [04/Nov/2024 22:24:18] \"GET /api/studies/1?after=50 HTTP/1.1\" 200 2666\n",
      "127.0.0.1 - - [04/Nov/2024 22:24:20] \"GET /api/studies/1?after=50 HTTP/1.1\" 200 2666\n",
      "127.0.0.1 - - [04/Nov/2024 22:24:22] \"GET /api/studies/1?after=50 HTTP/1.1\" 200 2666\n",
      "127.0.0.1 - - [04/Nov/2024 22:24:25] \"GET /api/studies/1?after=50 HTTP/1.1\" 200 2666\n",
      "127.0.0.1 - - [04/Nov/2024 22:24:27] \"GET /api/studies/1?after=50 HTTP/1.1\" 200 2666\n",
      "127.0.0.1 - - [04/Nov/2024 22:24:29] \"GET /api/studies/1?after=50 HTTP/1.1\" 200 2666\n",
      "127.0.0.1 - - [04/Nov/2024 22:24:39] \"GET /api/studies/1?after=50 HTTP/1.1\" 200 2666\n",
      "127.0.0.1 - - [04/Nov/2024 22:24:49] \"GET /api/studies/1?after=50 HTTP/1.1\" 200 2666\n",
      "127.0.0.1 - - [04/Nov/2024 22:24:59] \"GET /api/studies/1?after=50 HTTP/1.1\" 200 2666\n",
      "127.0.0.1 - - [04/Nov/2024 22:25:10] \"GET /api/studies/1?after=50 HTTP/1.1\" 200 2666\n",
      "127.0.0.1 - - [04/Nov/2024 22:25:20] \"GET /api/studies/1?after=50 HTTP/1.1\" 200 2666\n",
      "127.0.0.1 - - [04/Nov/2024 22:25:30] \"GET /api/studies/1?after=50 HTTP/1.1\" 200 2666\n",
      "127.0.0.1 - - [04/Nov/2024 22:25:40] \"GET /api/studies/1?after=50 HTTP/1.1\" 200 2666\n",
      "127.0.0.1 - - [04/Nov/2024 22:25:51] \"GET /api/studies/1?after=50 HTTP/1.1\" 200 2666\n",
      "127.0.0.1 - - [04/Nov/2024 22:26:02] \"GET /api/studies/1?after=50 HTTP/1.1\" 200 2666\n",
      "127.0.0.1 - - [04/Nov/2024 22:26:13] \"GET /api/studies/1?after=50 HTTP/1.1\" 200 2666\n",
      "127.0.0.1 - - [04/Nov/2024 22:26:24] \"GET /api/studies/1?after=50 HTTP/1.1\" 200 2666\n",
      "127.0.0.1 - - [04/Nov/2024 22:26:35] \"GET /api/studies/1?after=50 HTTP/1.1\" 200 2666\n",
      "127.0.0.1 - - [04/Nov/2024 22:26:46] \"GET /api/studies/1?after=50 HTTP/1.1\" 200 2666\n",
      "127.0.0.1 - - [04/Nov/2024 22:26:56] \"GET /api/studies/1?after=50 HTTP/1.1\" 200 2666\n",
      "127.0.0.1 - - [04/Nov/2024 22:27:07] \"GET /api/studies/1?after=50 HTTP/1.1\" 200 2666\n",
      "127.0.0.1 - - [04/Nov/2024 22:27:17] \"GET /api/studies/1?after=50 HTTP/1.1\" 200 2666\n",
      "127.0.0.1 - - [04/Nov/2024 22:27:28] \"GET /api/studies/1?after=50 HTTP/1.1\" 200 2666\n",
      "127.0.0.1 - - [04/Nov/2024 22:27:39] \"GET /api/studies/1?after=50 HTTP/1.1\" 200 2666\n",
      "127.0.0.1 - - [04/Nov/2024 22:27:50] \"GET /api/studies/1?after=50 HTTP/1.1\" 200 2666\n",
      "127.0.0.1 - - [04/Nov/2024 22:28:01] \"GET /api/studies/1?after=50 HTTP/1.1\" 200 2666\n",
      "127.0.0.1 - - [04/Nov/2024 22:28:12] \"GET /api/studies/1?after=50 HTTP/1.1\" 200 2666\n",
      "127.0.0.1 - - [04/Nov/2024 22:28:23] \"GET /api/studies/1?after=50 HTTP/1.1\" 200 2666\n",
      "127.0.0.1 - - [04/Nov/2024 22:28:34] \"GET /api/studies/1?after=50 HTTP/1.1\" 200 2666\n",
      "127.0.0.1 - - [04/Nov/2024 22:28:45] \"GET /api/studies/1?after=50 HTTP/1.1\" 200 2666\n",
      "127.0.0.1 - - [04/Nov/2024 22:28:56] \"GET /api/studies/1?after=50 HTTP/1.1\" 200 2666\n",
      "127.0.0.1 - - [04/Nov/2024 22:29:07] \"GET /api/studies/1?after=50 HTTP/1.1\" 200 2666\n",
      "127.0.0.1 - - [04/Nov/2024 22:29:18] \"GET /api/studies/1?after=50 HTTP/1.1\" 200 2666\n",
      "127.0.0.1 - - [04/Nov/2024 22:29:29] \"GET /api/studies/1?after=50 HTTP/1.1\" 200 2666\n",
      "127.0.0.1 - - [04/Nov/2024 22:29:40] \"GET /api/studies/1?after=50 HTTP/1.1\" 200 2666\n",
      "127.0.0.1 - - [04/Nov/2024 22:29:51] \"GET /api/studies/1?after=50 HTTP/1.1\" 200 2666\n",
      "127.0.0.1 - - [04/Nov/2024 22:30:02] \"GET /api/studies/1?after=50 HTTP/1.1\" 200 2666\n",
      "127.0.0.1 - - [04/Nov/2024 22:30:13] \"GET /api/studies/1?after=50 HTTP/1.1\" 200 2666\n",
      "127.0.0.1 - - [04/Nov/2024 22:30:24] \"GET /api/studies/1?after=50 HTTP/1.1\" 200 2666\n",
      "127.0.0.1 - - [04/Nov/2024 22:30:35] \"GET /api/studies/1?after=50 HTTP/1.1\" 200 2666\n",
      "127.0.0.1 - - [04/Nov/2024 22:30:46] \"GET /api/studies/1?after=50 HTTP/1.1\" 200 2666\n",
      "127.0.0.1 - - [04/Nov/2024 22:30:57] \"GET /api/studies/1?after=50 HTTP/1.1\" 200 2666\n",
      "127.0.0.1 - - [04/Nov/2024 22:31:08] \"GET /api/studies/1?after=50 HTTP/1.1\" 200 2666\n",
      "127.0.0.1 - - [04/Nov/2024 22:31:19] \"GET /api/studies/1?after=50 HTTP/1.1\" 200 2666\n",
      "127.0.0.1 - - [04/Nov/2024 22:31:30] \"GET /api/studies/1?after=50 HTTP/1.1\" 200 2666\n",
      "127.0.0.1 - - [04/Nov/2024 22:31:41] \"GET /api/studies/1?after=50 HTTP/1.1\" 200 2666\n",
      "127.0.0.1 - - [04/Nov/2024 22:31:52] \"GET /api/studies/1?after=50 HTTP/1.1\" 200 2666\n",
      "127.0.0.1 - - [04/Nov/2024 22:32:03] \"GET /api/studies/1?after=50 HTTP/1.1\" 200 2666\n",
      "127.0.0.1 - - [04/Nov/2024 22:32:14] \"GET /api/studies/1?after=50 HTTP/1.1\" 200 2666\n",
      "127.0.0.1 - - [04/Nov/2024 22:32:25] \"GET /api/studies/1?after=50 HTTP/1.1\" 200 2666\n",
      "127.0.0.1 - - [04/Nov/2024 22:32:36] \"GET /api/studies/1?after=50 HTTP/1.1\" 200 2666\n",
      "127.0.0.1 - - [04/Nov/2024 22:32:47] \"GET /api/studies/1?after=50 HTTP/1.1\" 200 2666\n",
      "127.0.0.1 - - [04/Nov/2024 22:32:58] \"GET /api/studies/1?after=50 HTTP/1.1\" 200 2666\n",
      "127.0.0.1 - - [04/Nov/2024 22:33:09] \"GET /api/studies/1?after=50 HTTP/1.1\" 200 2666\n",
      "127.0.0.1 - - [04/Nov/2024 22:33:20] \"GET /api/studies/1?after=50 HTTP/1.1\" 200 2666\n",
      "127.0.0.1 - - [04/Nov/2024 22:33:31] \"GET /api/studies/1?after=50 HTTP/1.1\" 200 2666\n",
      "127.0.0.1 - - [04/Nov/2024 22:33:42] \"GET /api/studies/1?after=50 HTTP/1.1\" 200 2666\n",
      "127.0.0.1 - - [04/Nov/2024 22:33:53] \"GET /api/studies/1?after=50 HTTP/1.1\" 200 2666\n",
      "127.0.0.1 - - [04/Nov/2024 22:34:04] \"GET /api/studies/1?after=50 HTTP/1.1\" 200 2666\n",
      "127.0.0.1 - - [04/Nov/2024 22:34:15] \"GET /api/studies/1?after=50 HTTP/1.1\" 200 2666\n",
      "127.0.0.1 - - [04/Nov/2024 22:34:26] \"GET /api/studies/1?after=50 HTTP/1.1\" 200 2666\n",
      "127.0.0.1 - - [04/Nov/2024 22:34:37] \"GET /api/studies/1?after=50 HTTP/1.1\" 200 2666\n",
      "127.0.0.1 - - [04/Nov/2024 22:34:48] \"GET /api/studies/1?after=50 HTTP/1.1\" 200 2666\n",
      "127.0.0.1 - - [04/Nov/2024 22:34:59] \"GET /api/studies/1?after=50 HTTP/1.1\" 200 2666\n",
      "127.0.0.1 - - [04/Nov/2024 22:35:10] \"GET /api/studies/1?after=50 HTTP/1.1\" 200 2666\n",
      "127.0.0.1 - - [04/Nov/2024 22:35:21] \"GET /api/studies/1?after=50 HTTP/1.1\" 200 2666\n",
      "127.0.0.1 - - [04/Nov/2024 22:35:32] \"GET /api/studies/1?after=50 HTTP/1.1\" 200 2666\n",
      "127.0.0.1 - - [04/Nov/2024 22:35:43] \"GET /api/studies/1?after=50 HTTP/1.1\" 200 2666\n",
      "127.0.0.1 - - [04/Nov/2024 22:35:54] \"GET /api/studies/1?after=50 HTTP/1.1\" 200 2666\n",
      "127.0.0.1 - - [04/Nov/2024 22:36:05] \"GET /api/studies/1?after=50 HTTP/1.1\" 200 2666\n",
      "127.0.0.1 - - [04/Nov/2024 22:36:16] \"GET /api/studies/1?after=50 HTTP/1.1\" 200 2666\n",
      "127.0.0.1 - - [04/Nov/2024 22:36:27] \"GET /api/studies/1?after=50 HTTP/1.1\" 200 2666\n",
      "127.0.0.1 - - [04/Nov/2024 22:36:38] \"GET /api/studies/1?after=50 HTTP/1.1\" 200 2666\n",
      "127.0.0.1 - - [04/Nov/2024 22:36:49] \"GET /api/studies/1?after=50 HTTP/1.1\" 200 2666\n",
      "127.0.0.1 - - [04/Nov/2024 22:37:00] \"GET /api/studies/1?after=50 HTTP/1.1\" 200 2666\n",
      "127.0.0.1 - - [04/Nov/2024 22:37:11] \"GET /api/studies/1?after=50 HTTP/1.1\" 200 2666\n",
      "127.0.0.1 - - [04/Nov/2024 22:37:16] \"GET /favicon.ico HTTP/1.1\" 304 0\n",
      "127.0.0.1 - - [04/Nov/2024 22:37:26] \"GET /api/studies/1?after=50 HTTP/1.1\" 200 2666\n",
      "127.0.0.1 - - [04/Nov/2024 22:37:36] \"GET /api/studies/1?after=50 HTTP/1.1\" 200 2666\n",
      "127.0.0.1 - - [04/Nov/2024 22:37:46] \"GET /api/studies/1?after=50 HTTP/1.1\" 200 2666\n",
      "127.0.0.1 - - [04/Nov/2024 22:37:56] \"GET /api/studies/1?after=50 HTTP/1.1\" 200 2666\n",
      "127.0.0.1 - - [04/Nov/2024 22:38:06] \"GET /api/studies/1?after=50 HTTP/1.1\" 200 2666\n",
      "127.0.0.1 - - [04/Nov/2024 22:38:17] \"GET /api/studies/1?after=50 HTTP/1.1\" 200 2666\n",
      "127.0.0.1 - - [04/Nov/2024 22:38:27] \"GET /api/studies/1?after=50 HTTP/1.1\" 200 2666\n",
      "127.0.0.1 - - [04/Nov/2024 22:38:37] \"GET /api/studies/1?after=50 HTTP/1.1\" 200 2666\n",
      "127.0.0.1 - - [04/Nov/2024 22:38:47] \"GET /api/studies/1?after=50 HTTP/1.1\" 200 2666\n",
      "127.0.0.1 - - [04/Nov/2024 22:38:57] \"GET /api/studies/1?after=50 HTTP/1.1\" 200 2666\n",
      "127.0.0.1 - - [04/Nov/2024 22:39:08] \"GET /api/studies/1?after=50 HTTP/1.1\" 200 2666\n",
      "127.0.0.1 - - [04/Nov/2024 22:39:19] \"GET /api/studies/1?after=50 HTTP/1.1\" 200 2666\n",
      "127.0.0.1 - - [04/Nov/2024 22:39:30] \"GET /api/studies/1?after=50 HTTP/1.1\" 200 2666\n",
      "127.0.0.1 - - [04/Nov/2024 22:39:40] \"GET /api/studies/1?after=50 HTTP/1.1\" 200 2666\n",
      "127.0.0.1 - - [04/Nov/2024 22:39:59] \"GET /api/studies/1?after=50 HTTP/1.1\" 200 2666\n",
      "127.0.0.1 - - [04/Nov/2024 22:40:10] \"GET /api/studies/1?after=50 HTTP/1.1\" 200 2666\n",
      "127.0.0.1 - - [04/Nov/2024 22:40:20] \"GET /api/studies/1?after=50 HTTP/1.1\" 200 2666\n",
      "127.0.0.1 - - [04/Nov/2024 22:40:30] \"GET /api/studies/1?after=50 HTTP/1.1\" 200 2666\n",
      "127.0.0.1 - - [04/Nov/2024 22:40:40] \"GET /api/studies/1?after=50 HTTP/1.1\" 200 2666\n",
      "127.0.0.1 - - [04/Nov/2024 22:40:50] \"GET /api/studies/1?after=50 HTTP/1.1\" 200 2666\n",
      "127.0.0.1 - - [04/Nov/2024 22:41:01] \"GET /api/studies/1?after=50 HTTP/1.1\" 200 2666\n",
      "127.0.0.1 - - [04/Nov/2024 22:41:02] \"GET /dashboard/studies/1/analytics HTTP/1.1\" 200 4145\n",
      "127.0.0.1 - - [04/Nov/2024 22:41:02] \"GET /static/bundle.js HTTP/1.1\" 200 4159599\n",
      "127.0.0.1 - - [04/Nov/2024 22:41:03] \"GET /api/meta HTTP/1.1\" 200 60\n",
      "127.0.0.1 - - [04/Nov/2024 22:41:03] \"GET /favicon.ico HTTP/1.1\" 304 0\n",
      "127.0.0.1 - - [04/Nov/2024 22:41:03] \"GET /api/studies/1?after=0 HTTP/1.1\" 200 64368\n",
      "127.0.0.1 - - [04/Nov/2024 22:41:13] \"GET /api/studies/1?after=50 HTTP/1.1\" 200 2666\n",
      "127.0.0.1 - - [04/Nov/2024 22:41:24] \"GET /api/studies/1?after=50 HTTP/1.1\" 200 2666\n",
      "127.0.0.1 - - [04/Nov/2024 22:41:34] \"GET /api/studies/1?after=50 HTTP/1.1\" 200 2666\n",
      "127.0.0.1 - - [04/Nov/2024 22:41:44] \"GET /api/studies/1?after=50 HTTP/1.1\" 200 2666\n",
      "127.0.0.1 - - [04/Nov/2024 22:41:55] \"GET /api/studies/1?after=50 HTTP/1.1\" 200 2666\n",
      "127.0.0.1 - - [04/Nov/2024 22:42:06] \"GET /api/studies/1?after=50 HTTP/1.1\" 200 2666\n",
      "127.0.0.1 - - [04/Nov/2024 22:42:16] \"GET /api/studies/1?after=50 HTTP/1.1\" 200 2666\n",
      "127.0.0.1 - - [04/Nov/2024 22:42:26] \"GET /api/studies/1?after=50 HTTP/1.1\" 200 2666\n",
      "127.0.0.1 - - [04/Nov/2024 22:42:36] \"GET /api/studies/1?after=50 HTTP/1.1\" 200 2666\n",
      "127.0.0.1 - - [04/Nov/2024 22:42:47] \"GET /api/studies/1?after=50 HTTP/1.1\" 200 2666\n",
      "127.0.0.1 - - [04/Nov/2024 22:42:57] \"GET /api/studies/1?after=50 HTTP/1.1\" 200 2666\n",
      "127.0.0.1 - - [04/Nov/2024 22:43:07] \"GET /api/studies/1?after=50 HTTP/1.1\" 200 2666\n",
      "127.0.0.1 - - [04/Nov/2024 22:43:17] \"GET /api/studies/1?after=50 HTTP/1.1\" 200 2666\n",
      "127.0.0.1 - - [04/Nov/2024 22:43:28] \"GET /api/studies/1?after=50 HTTP/1.1\" 200 2666\n",
      "127.0.0.1 - - [04/Nov/2024 22:43:44] \"GET /api/studies/1?after=50 HTTP/1.1\" 200 2666\n",
      "127.0.0.1 - - [04/Nov/2024 22:43:54] \"GET /api/studies/1?after=50 HTTP/1.1\" 200 2666\n",
      "127.0.0.1 - - [04/Nov/2024 22:44:05] \"GET /api/studies/1?after=50 HTTP/1.1\" 200 2666\n",
      "127.0.0.1 - - [04/Nov/2024 22:44:15] \"GET /api/studies/1?after=50 HTTP/1.1\" 200 2666\n",
      "127.0.0.1 - - [04/Nov/2024 22:44:25] \"GET /api/studies/1?after=50 HTTP/1.1\" 200 2666\n",
      "127.0.0.1 - - [04/Nov/2024 22:44:35] \"GET /api/studies/1?after=50 HTTP/1.1\" 200 2666\n",
      "127.0.0.1 - - [04/Nov/2024 22:44:46] \"GET /api/studies/1?after=50 HTTP/1.1\" 200 2666\n",
      "127.0.0.1 - - [04/Nov/2024 22:44:56] \"GET /api/studies/1?after=50 HTTP/1.1\" 200 2666\n",
      "127.0.0.1 - - [04/Nov/2024 22:45:06] \"GET /api/studies/1?after=50 HTTP/1.1\" 200 2666\n",
      "127.0.0.1 - - [04/Nov/2024 22:45:16] \"GET /api/studies/1?after=50 HTTP/1.1\" 200 2666\n",
      "127.0.0.1 - - [04/Nov/2024 22:45:27] \"GET /api/studies/1?after=50 HTTP/1.1\" 200 2666\n",
      "127.0.0.1 - - [04/Nov/2024 22:45:37] \"GET /api/studies/1?after=50 HTTP/1.1\" 200 2666\n",
      "127.0.0.1 - - [04/Nov/2024 22:45:47] \"GET /api/studies/1?after=50 HTTP/1.1\" 200 2666\n",
      "127.0.0.1 - - [04/Nov/2024 22:45:58] \"GET /api/studies/1?after=50 HTTP/1.1\" 200 2666\n",
      "127.0.0.1 - - [04/Nov/2024 22:46:08] \"GET /api/studies/1?after=50 HTTP/1.1\" 200 2666\n",
      "127.0.0.1 - - [04/Nov/2024 22:46:19] \"GET /api/studies/1?after=50 HTTP/1.1\" 200 2666\n",
      "127.0.0.1 - - [04/Nov/2024 22:46:29] \"GET /api/studies/1/param_importances HTTP/1.1\" 200 379\n",
      "127.0.0.1 - - [04/Nov/2024 22:46:29] \"GET /favicon.ico HTTP/1.1\" 304 0\n",
      "127.0.0.1 - - [04/Nov/2024 22:46:39] \"GET /api/studies/1?after=50 HTTP/1.1\" 200 2666\n",
      "127.0.0.1 - - [04/Nov/2024 22:46:49] \"GET /api/studies/1?after=50 HTTP/1.1\" 200 2666\n",
      "127.0.0.1 - - [04/Nov/2024 22:47:00] \"GET /api/studies/1?after=50 HTTP/1.1\" 200 2666\n",
      "127.0.0.1 - - [04/Nov/2024 22:47:11] \"GET /api/studies/1?after=50 HTTP/1.1\" 200 2666\n",
      "127.0.0.1 - - [04/Nov/2024 22:47:22] \"GET /api/studies/1?after=50 HTTP/1.1\" 200 2666\n",
      "127.0.0.1 - - [04/Nov/2024 22:47:33] \"GET /api/studies/1?after=50 HTTP/1.1\" 200 2666\n",
      "127.0.0.1 - - [04/Nov/2024 22:47:43] \"GET /api/studies/1?after=50 HTTP/1.1\" 200 2666\n",
      "127.0.0.1 - - [04/Nov/2024 22:47:53] \"GET /api/studies/1?after=50 HTTP/1.1\" 200 2666\n",
      "127.0.0.1 - - [04/Nov/2024 22:48:04] \"GET /api/studies/1?after=50 HTTP/1.1\" 200 2666\n",
      "127.0.0.1 - - [04/Nov/2024 22:48:14] \"GET /api/studies/1?after=50 HTTP/1.1\" 200 2666\n",
      "127.0.0.1 - - [04/Nov/2024 22:48:25] \"GET /api/studies/1?after=50 HTTP/1.1\" 200 2666\n",
      "127.0.0.1 - - [04/Nov/2024 22:48:36] \"GET /api/studies/1?after=50 HTTP/1.1\" 200 2666\n",
      "127.0.0.1 - - [04/Nov/2024 22:48:47] \"GET /api/studies/1?after=50 HTTP/1.1\" 200 2666\n",
      "127.0.0.1 - - [04/Nov/2024 22:48:58] \"GET /api/studies/1?after=50 HTTP/1.1\" 200 2666\n",
      "127.0.0.1 - - [04/Nov/2024 22:49:09] \"GET /api/studies/1?after=50 HTTP/1.1\" 200 2666\n",
      "127.0.0.1 - - [04/Nov/2024 22:49:20] \"GET /api/studies/1?after=50 HTTP/1.1\" 200 2666\n",
      "127.0.0.1 - - [04/Nov/2024 22:49:31] \"GET /api/studies/1?after=50 HTTP/1.1\" 200 2666\n",
      "127.0.0.1 - - [04/Nov/2024 22:49:42] \"GET /api/studies/1?after=50 HTTP/1.1\" 200 2666\n",
      "127.0.0.1 - - [04/Nov/2024 22:49:53] \"GET /api/studies/1?after=50 HTTP/1.1\" 200 2666\n",
      "127.0.0.1 - - [04/Nov/2024 22:50:04] \"GET /api/studies/1?after=50 HTTP/1.1\" 200 2666\n",
      "127.0.0.1 - - [04/Nov/2024 22:50:15] \"GET /api/studies/1?after=50 HTTP/1.1\" 200 2666\n",
      "127.0.0.1 - - [04/Nov/2024 22:50:26] \"GET /api/studies/1?after=50 HTTP/1.1\" 200 2666\n",
      "127.0.0.1 - - [04/Nov/2024 22:50:37] \"GET /api/studies/1?after=50 HTTP/1.1\" 200 2666\n",
      "127.0.0.1 - - [04/Nov/2024 22:50:48] \"GET /api/studies/1?after=50 HTTP/1.1\" 200 2666\n",
      "127.0.0.1 - - [04/Nov/2024 22:50:59] \"GET /api/studies/1?after=50 HTTP/1.1\" 200 2666\n",
      "127.0.0.1 - - [04/Nov/2024 22:51:10] \"GET /api/studies/1?after=50 HTTP/1.1\" 200 2666\n",
      "127.0.0.1 - - [04/Nov/2024 22:51:21] \"GET /api/studies/1?after=50 HTTP/1.1\" 200 2666\n",
      "127.0.0.1 - - [04/Nov/2024 22:51:32] \"GET /api/studies/1?after=50 HTTP/1.1\" 200 2666\n",
      "127.0.0.1 - - [04/Nov/2024 22:51:43] \"GET /api/studies/1?after=50 HTTP/1.1\" 200 2666\n",
      "127.0.0.1 - - [04/Nov/2024 22:51:54] \"GET /api/studies/1?after=50 HTTP/1.1\" 200 2666\n",
      "127.0.0.1 - - [04/Nov/2024 22:52:05] \"GET /api/studies/1?after=50 HTTP/1.1\" 200 2666\n",
      "127.0.0.1 - - [04/Nov/2024 22:52:16] \"GET /api/studies/1?after=50 HTTP/1.1\" 200 2666\n",
      "127.0.0.1 - - [04/Nov/2024 22:52:27] \"GET /api/studies/1?after=50 HTTP/1.1\" 200 2666\n",
      "127.0.0.1 - - [04/Nov/2024 22:52:38] \"GET /api/studies/1?after=50 HTTP/1.1\" 200 2666\n",
      "127.0.0.1 - - [04/Nov/2024 22:52:49] \"GET /api/studies/1?after=50 HTTP/1.1\" 200 2666\n",
      "127.0.0.1 - - [04/Nov/2024 22:53:00] \"GET /api/studies/1?after=50 HTTP/1.1\" 200 2666\n",
      "127.0.0.1 - - [04/Nov/2024 22:53:11] \"GET /api/studies/1?after=50 HTTP/1.1\" 200 2666\n",
      "127.0.0.1 - - [04/Nov/2024 22:53:21] \"GET /api/studies/1?after=50 HTTP/1.1\" 200 2666\n",
      "127.0.0.1 - - [04/Nov/2024 22:53:32] \"GET /api/studies/1?after=50 HTTP/1.1\" 200 2666\n",
      "127.0.0.1 - - [04/Nov/2024 22:53:42] \"GET /api/studies/1?after=50 HTTP/1.1\" 200 2666\n",
      "127.0.0.1 - - [04/Nov/2024 22:53:52] \"GET /api/studies/1?after=50 HTTP/1.1\" 200 2666\n",
      "127.0.0.1 - - [04/Nov/2024 22:54:02] \"GET /api/studies/1?after=50 HTTP/1.1\" 200 2666\n",
      "127.0.0.1 - - [04/Nov/2024 22:54:12] \"GET /api/studies/1?after=50 HTTP/1.1\" 200 2666\n",
      "127.0.0.1 - - [04/Nov/2024 22:54:22] \"GET /api/studies/1?after=50 HTTP/1.1\" 200 2666\n",
      "127.0.0.1 - - [04/Nov/2024 22:54:32] \"GET /api/studies/1?after=50 HTTP/1.1\" 200 2666\n",
      "127.0.0.1 - - [04/Nov/2024 22:54:42] \"GET /api/studies/1?after=50 HTTP/1.1\" 200 2666\n",
      "127.0.0.1 - - [04/Nov/2024 22:54:52] \"GET /api/studies/1?after=50 HTTP/1.1\" 200 2666\n",
      "127.0.0.1 - - [04/Nov/2024 22:55:02] \"GET /api/studies/1?after=50 HTTP/1.1\" 200 2666\n",
      "127.0.0.1 - - [04/Nov/2024 22:55:13] \"GET /api/studies/1?after=50 HTTP/1.1\" 200 2666\n",
      "127.0.0.1 - - [04/Nov/2024 22:55:23] \"GET /api/studies/1?after=50 HTTP/1.1\" 200 2666\n",
      "127.0.0.1 - - [04/Nov/2024 22:55:34] \"GET /api/studies/1?after=50 HTTP/1.1\" 200 2666\n",
      "127.0.0.1 - - [04/Nov/2024 22:55:45] \"GET /api/studies/1?after=50 HTTP/1.1\" 200 2666\n",
      "127.0.0.1 - - [04/Nov/2024 22:55:56] \"GET /api/studies/1?after=50 HTTP/1.1\" 200 2666\n",
      "127.0.0.1 - - [04/Nov/2024 22:56:07] \"GET /api/studies/1?after=50 HTTP/1.1\" 200 2666\n",
      "127.0.0.1 - - [04/Nov/2024 22:56:18] \"GET /api/studies/1?after=50 HTTP/1.1\" 200 2666\n",
      "127.0.0.1 - - [04/Nov/2024 22:56:29] \"GET /api/studies/1?after=50 HTTP/1.1\" 200 2666\n",
      "127.0.0.1 - - [04/Nov/2024 22:56:40] \"GET /api/studies/1?after=50 HTTP/1.1\" 200 2666\n",
      "127.0.0.1 - - [04/Nov/2024 22:56:50] \"GET /api/studies/1?after=50 HTTP/1.1\" 200 2666\n",
      "127.0.0.1 - - [04/Nov/2024 22:57:00] \"GET /api/studies/1?after=50 HTTP/1.1\" 200 2666\n",
      "127.0.0.1 - - [04/Nov/2024 22:57:11] \"GET /api/studies/1?after=50 HTTP/1.1\" 200 2666\n",
      "127.0.0.1 - - [04/Nov/2024 22:57:21] \"GET /api/studies/1?after=50 HTTP/1.1\" 200 2666\n",
      "127.0.0.1 - - [04/Nov/2024 22:57:31] \"GET /api/studies/1?after=50 HTTP/1.1\" 200 2666\n",
      "127.0.0.1 - - [04/Nov/2024 22:57:32] \"GET /favicon.ico HTTP/1.1\" 304 0\n",
      "127.0.0.1 - - [04/Nov/2024 22:57:42] \"GET /api/studies/1?after=50 HTTP/1.1\" 200 2666\n",
      "127.0.0.1 - - [04/Nov/2024 22:57:52] \"GET /api/studies/1?after=50 HTTP/1.1\" 200 2666\n",
      "127.0.0.1 - - [04/Nov/2024 22:58:02] \"GET /api/studies/1?after=50 HTTP/1.1\" 200 2666\n",
      "127.0.0.1 - - [04/Nov/2024 22:58:12] \"GET /api/studies/1?after=50 HTTP/1.1\" 200 2666\n",
      "127.0.0.1 - - [04/Nov/2024 22:58:22] \"GET /api/studies/1?after=50 HTTP/1.1\" 200 2666\n",
      "127.0.0.1 - - [04/Nov/2024 22:58:32] \"GET /api/studies/1?after=50 HTTP/1.1\" 200 2666\n",
      "127.0.0.1 - - [04/Nov/2024 22:58:42] \"GET /api/studies/1?after=50 HTTP/1.1\" 200 2666\n",
      "127.0.0.1 - - [04/Nov/2024 22:58:52] \"GET /api/studies/1?after=50 HTTP/1.1\" 200 2666\n",
      "127.0.0.1 - - [04/Nov/2024 22:59:02] \"GET /api/studies/1?after=50 HTTP/1.1\" 200 2666\n",
      "127.0.0.1 - - [04/Nov/2024 22:59:13] \"GET /api/studies/1?after=50 HTTP/1.1\" 200 2666\n",
      "127.0.0.1 - - [04/Nov/2024 22:59:24] \"GET /api/studies/1?after=50 HTTP/1.1\" 200 2666\n",
      "127.0.0.1 - - [04/Nov/2024 22:59:35] \"GET /api/studies/1?after=50 HTTP/1.1\" 200 2666\n",
      "127.0.0.1 - - [04/Nov/2024 22:59:46] \"GET /api/studies/1?after=50 HTTP/1.1\" 200 2666\n",
      "127.0.0.1 - - [04/Nov/2024 22:59:57] \"GET /api/studies/1?after=50 HTTP/1.1\" 200 2666\n",
      "127.0.0.1 - - [04/Nov/2024 23:00:08] \"GET /api/studies/1?after=50 HTTP/1.1\" 200 2666\n",
      "127.0.0.1 - - [04/Nov/2024 23:00:19] \"GET /api/studies/1?after=50 HTTP/1.1\" 200 2666\n",
      "127.0.0.1 - - [04/Nov/2024 23:00:30] \"GET /api/studies/1?after=50 HTTP/1.1\" 200 2666\n",
      "127.0.0.1 - - [04/Nov/2024 23:00:41] \"GET /api/studies/1?after=50 HTTP/1.1\" 200 2666\n",
      "127.0.0.1 - - [04/Nov/2024 23:00:52] \"GET /api/studies/1?after=50 HTTP/1.1\" 200 2666\n",
      "127.0.0.1 - - [04/Nov/2024 23:01:03] \"GET /api/studies/1?after=50 HTTP/1.1\" 200 2666\n",
      "127.0.0.1 - - [04/Nov/2024 23:01:14] \"GET /api/studies/1?after=50 HTTP/1.1\" 200 2666\n",
      "127.0.0.1 - - [04/Nov/2024 23:01:25] \"GET /api/studies/1?after=50 HTTP/1.1\" 200 2666\n",
      "127.0.0.1 - - [04/Nov/2024 23:01:36] \"GET /api/studies/1?after=50 HTTP/1.1\" 200 2666\n",
      "127.0.0.1 - - [04/Nov/2024 23:01:47] \"GET /api/studies/1?after=50 HTTP/1.1\" 200 2666\n",
      "127.0.0.1 - - [04/Nov/2024 23:01:58] \"GET /api/studies/1?after=50 HTTP/1.1\" 200 2666\n",
      "127.0.0.1 - - [04/Nov/2024 23:02:09] \"GET /api/studies/1?after=50 HTTP/1.1\" 200 2666\n",
      "127.0.0.1 - - [04/Nov/2024 23:02:20] \"GET /api/studies/1?after=50 HTTP/1.1\" 200 2666\n",
      "127.0.0.1 - - [04/Nov/2024 23:02:31] \"GET /api/studies/1?after=50 HTTP/1.1\" 200 2666\n",
      "127.0.0.1 - - [04/Nov/2024 23:02:42] \"GET /api/studies/1?after=50 HTTP/1.1\" 200 2666\n",
      "127.0.0.1 - - [04/Nov/2024 23:02:53] \"GET /api/studies/1?after=50 HTTP/1.1\" 200 2666\n",
      "127.0.0.1 - - [04/Nov/2024 23:03:04] \"GET /api/studies/1?after=50 HTTP/1.1\" 200 2666\n",
      "127.0.0.1 - - [04/Nov/2024 23:03:15] \"GET /api/studies/1?after=50 HTTP/1.1\" 200 2666\n",
      "127.0.0.1 - - [04/Nov/2024 23:03:26] \"GET /api/studies/1?after=50 HTTP/1.1\" 200 2666\n",
      "127.0.0.1 - - [04/Nov/2024 23:03:37] \"GET /api/studies/1?after=50 HTTP/1.1\" 200 2666\n",
      "127.0.0.1 - - [04/Nov/2024 23:03:48] \"GET /api/studies/1?after=50 HTTP/1.1\" 200 2666\n",
      "127.0.0.1 - - [04/Nov/2024 23:03:59] \"GET /api/studies/1?after=50 HTTP/1.1\" 200 2666\n",
      "127.0.0.1 - - [04/Nov/2024 23:04:10] \"GET /api/studies/1?after=50 HTTP/1.1\" 200 2666\n",
      "127.0.0.1 - - [04/Nov/2024 23:04:21] \"GET /api/studies/1?after=50 HTTP/1.1\" 200 2666\n",
      "127.0.0.1 - - [04/Nov/2024 23:04:32] \"GET /api/studies/1?after=50 HTTP/1.1\" 200 2666\n",
      "127.0.0.1 - - [04/Nov/2024 23:04:43] \"GET /api/studies/1?after=50 HTTP/1.1\" 200 2666\n",
      "127.0.0.1 - - [04/Nov/2024 23:04:54] \"GET /api/studies/1?after=50 HTTP/1.1\" 200 2666\n",
      "127.0.0.1 - - [04/Nov/2024 23:05:05] \"GET /api/studies/1?after=50 HTTP/1.1\" 200 2666\n",
      "127.0.0.1 - - [04/Nov/2024 23:05:16] \"GET /api/studies/1?after=50 HTTP/1.1\" 200 2666\n",
      "127.0.0.1 - - [04/Nov/2024 23:05:27] \"GET /api/studies/1?after=50 HTTP/1.1\" 200 2666\n",
      "127.0.0.1 - - [04/Nov/2024 23:05:38] \"GET /api/studies/1?after=50 HTTP/1.1\" 200 2666\n",
      "127.0.0.1 - - [04/Nov/2024 23:05:49] \"GET /api/studies/1?after=50 HTTP/1.1\" 200 2666\n",
      "127.0.0.1 - - [04/Nov/2024 23:06:00] \"GET /api/studies/1?after=50 HTTP/1.1\" 200 2666\n",
      "127.0.0.1 - - [04/Nov/2024 23:06:11] \"GET /api/studies/1?after=50 HTTP/1.1\" 200 2666\n",
      "127.0.0.1 - - [04/Nov/2024 23:06:22] \"GET /api/studies/1?after=50 HTTP/1.1\" 200 2666\n",
      "127.0.0.1 - - [04/Nov/2024 23:06:33] \"GET /api/studies/1?after=50 HTTP/1.1\" 200 2666\n",
      "127.0.0.1 - - [04/Nov/2024 23:06:44] \"GET /api/studies/1?after=50 HTTP/1.1\" 200 2666\n",
      "127.0.0.1 - - [04/Nov/2024 23:06:55] \"GET /api/studies/1?after=50 HTTP/1.1\" 200 2666\n",
      "127.0.0.1 - - [04/Nov/2024 23:07:06] \"GET /api/studies/1?after=50 HTTP/1.1\" 200 2666\n",
      "127.0.0.1 - - [04/Nov/2024 23:07:17] \"GET /api/studies/1?after=50 HTTP/1.1\" 200 2666\n",
      "127.0.0.1 - - [04/Nov/2024 23:07:28] \"GET /api/studies/1?after=50 HTTP/1.1\" 200 2666\n",
      "127.0.0.1 - - [04/Nov/2024 23:07:39] \"GET /api/studies/1?after=50 HTTP/1.1\" 200 2666\n",
      "127.0.0.1 - - [04/Nov/2024 23:07:50] \"GET /api/studies/1?after=50 HTTP/1.1\" 200 2666\n",
      "127.0.0.1 - - [04/Nov/2024 23:08:01] \"GET /api/studies/1?after=50 HTTP/1.1\" 200 2666\n",
      "127.0.0.1 - - [04/Nov/2024 23:08:12] \"GET /api/studies/1?after=50 HTTP/1.1\" 200 2666\n",
      "127.0.0.1 - - [04/Nov/2024 23:08:23] \"GET /api/studies/1?after=50 HTTP/1.1\" 200 2666\n",
      "127.0.0.1 - - [04/Nov/2024 23:08:34] \"GET /api/studies/1?after=50 HTTP/1.1\" 200 2666\n",
      "127.0.0.1 - - [04/Nov/2024 23:08:45] \"GET /api/studies/1?after=50 HTTP/1.1\" 200 2666\n",
      "127.0.0.1 - - [04/Nov/2024 23:08:56] \"GET /api/studies/1?after=50 HTTP/1.1\" 200 2666\n",
      "127.0.0.1 - - [04/Nov/2024 23:09:07] \"GET /api/studies/1?after=50 HTTP/1.1\" 200 2666\n",
      "127.0.0.1 - - [04/Nov/2024 23:09:18] \"GET /api/studies/1?after=50 HTTP/1.1\" 200 2666\n",
      "127.0.0.1 - - [04/Nov/2024 23:09:29] \"GET /api/studies/1?after=50 HTTP/1.1\" 200 2666\n",
      "127.0.0.1 - - [04/Nov/2024 23:09:40] \"GET /api/studies/1?after=50 HTTP/1.1\" 200 2666\n",
      "127.0.0.1 - - [04/Nov/2024 23:09:51] \"GET /api/studies/1?after=50 HTTP/1.1\" 200 2666\n",
      "127.0.0.1 - - [04/Nov/2024 23:10:02] \"GET /api/studies/1?after=50 HTTP/1.1\" 200 2666\n",
      "127.0.0.1 - - [04/Nov/2024 23:10:13] \"GET /api/studies/1?after=50 HTTP/1.1\" 200 2666\n",
      "127.0.0.1 - - [04/Nov/2024 23:10:24] \"GET /api/studies/1?after=50 HTTP/1.1\" 200 2666\n",
      "127.0.0.1 - - [04/Nov/2024 23:10:35] \"GET /api/studies/1?after=50 HTTP/1.1\" 200 2666\n",
      "127.0.0.1 - - [04/Nov/2024 23:10:46] \"GET /api/studies/1?after=50 HTTP/1.1\" 200 2666\n",
      "127.0.0.1 - - [04/Nov/2024 23:10:57] \"GET /api/studies/1?after=50 HTTP/1.1\" 200 2666\n",
      "127.0.0.1 - - [04/Nov/2024 23:11:08] \"GET /api/studies/1?after=50 HTTP/1.1\" 200 2666\n",
      "127.0.0.1 - - [04/Nov/2024 23:11:19] \"GET /api/studies/1?after=50 HTTP/1.1\" 200 2666\n",
      "127.0.0.1 - - [04/Nov/2024 23:11:30] \"GET /api/studies/1?after=50 HTTP/1.1\" 200 2666\n",
      "127.0.0.1 - - [04/Nov/2024 23:11:41] \"GET /api/studies/1?after=50 HTTP/1.1\" 200 2666\n",
      "127.0.0.1 - - [04/Nov/2024 23:11:52] \"GET /api/studies/1?after=50 HTTP/1.1\" 200 2666\n",
      "127.0.0.1 - - [04/Nov/2024 23:12:03] \"GET /api/studies/1?after=50 HTTP/1.1\" 200 2666\n",
      "127.0.0.1 - - [04/Nov/2024 23:12:14] \"GET /api/studies/1?after=50 HTTP/1.1\" 200 2666\n",
      "127.0.0.1 - - [04/Nov/2024 23:12:25] \"GET /api/studies/1?after=50 HTTP/1.1\" 200 2666\n",
      "127.0.0.1 - - [04/Nov/2024 23:12:36] \"GET /api/studies/1?after=50 HTTP/1.1\" 200 2666\n",
      "127.0.0.1 - - [04/Nov/2024 23:12:47] \"GET /api/studies/1?after=50 HTTP/1.1\" 200 2666\n",
      "127.0.0.1 - - [04/Nov/2024 23:12:58] \"GET /api/studies/1?after=50 HTTP/1.1\" 200 2666\n",
      "127.0.0.1 - - [04/Nov/2024 23:13:09] \"GET /api/studies/1?after=50 HTTP/1.1\" 200 2666\n",
      "127.0.0.1 - - [04/Nov/2024 23:13:20] \"GET /api/studies/1?after=50 HTTP/1.1\" 200 2666\n",
      "127.0.0.1 - - [04/Nov/2024 23:13:31] \"GET /api/studies/1?after=50 HTTP/1.1\" 200 2666\n",
      "127.0.0.1 - - [04/Nov/2024 23:13:42] \"GET /api/studies/1?after=50 HTTP/1.1\" 200 2666\n",
      "127.0.0.1 - - [04/Nov/2024 23:13:53] \"GET /api/studies/1?after=50 HTTP/1.1\" 200 2666\n",
      "127.0.0.1 - - [04/Nov/2024 23:14:04] \"GET /api/studies/1?after=50 HTTP/1.1\" 200 2666\n",
      "127.0.0.1 - - [04/Nov/2024 23:14:15] \"GET /api/studies/1?after=50 HTTP/1.1\" 200 2666\n",
      "127.0.0.1 - - [04/Nov/2024 23:14:26] \"GET /api/studies/1?after=50 HTTP/1.1\" 200 2666\n",
      "127.0.0.1 - - [04/Nov/2024 23:14:37] \"GET /api/studies/1?after=50 HTTP/1.1\" 200 2666\n",
      "127.0.0.1 - - [04/Nov/2024 23:14:48] \"GET /api/studies/1?after=50 HTTP/1.1\" 200 2666\n",
      "127.0.0.1 - - [04/Nov/2024 23:14:59] \"GET /api/studies/1?after=50 HTTP/1.1\" 200 2666\n",
      "127.0.0.1 - - [04/Nov/2024 23:15:10] \"GET /api/studies/1?after=50 HTTP/1.1\" 200 2666\n",
      "127.0.0.1 - - [04/Nov/2024 23:15:21] \"GET /api/studies/1?after=50 HTTP/1.1\" 200 2666\n",
      "127.0.0.1 - - [04/Nov/2024 23:15:32] \"GET /api/studies/1?after=50 HTTP/1.1\" 200 2666\n",
      "127.0.0.1 - - [04/Nov/2024 23:15:43] \"GET /api/studies/1?after=50 HTTP/1.1\" 200 2666\n",
      "127.0.0.1 - - [04/Nov/2024 23:15:54] \"GET /api/studies/1?after=50 HTTP/1.1\" 200 2666\n",
      "127.0.0.1 - - [04/Nov/2024 23:16:05] \"GET /api/studies/1?after=50 HTTP/1.1\" 200 2666\n",
      "127.0.0.1 - - [04/Nov/2024 23:16:16] \"GET /api/studies/1?after=50 HTTP/1.1\" 200 2666\n",
      "127.0.0.1 - - [04/Nov/2024 23:16:27] \"GET /api/studies/1?after=50 HTTP/1.1\" 200 2666\n",
      "127.0.0.1 - - [04/Nov/2024 23:16:38] \"GET /api/studies/1?after=50 HTTP/1.1\" 200 2666\n",
      "127.0.0.1 - - [04/Nov/2024 23:16:49] \"GET /api/studies/1?after=50 HTTP/1.1\" 200 2666\n",
      "127.0.0.1 - - [04/Nov/2024 23:17:00] \"GET /api/studies/1?after=50 HTTP/1.1\" 200 2666\n",
      "127.0.0.1 - - [04/Nov/2024 23:17:11] \"GET /api/studies/1?after=50 HTTP/1.1\" 200 2666\n",
      "127.0.0.1 - - [04/Nov/2024 23:17:22] \"GET /api/studies/1?after=50 HTTP/1.1\" 200 2666\n",
      "127.0.0.1 - - [04/Nov/2024 23:17:33] \"GET /api/studies/1?after=50 HTTP/1.1\" 200 2666\n",
      "127.0.0.1 - - [04/Nov/2024 23:17:44] \"GET /api/studies/1?after=50 HTTP/1.1\" 200 2666\n",
      "127.0.0.1 - - [04/Nov/2024 23:17:55] \"GET /api/studies/1?after=50 HTTP/1.1\" 200 2666\n",
      "127.0.0.1 - - [04/Nov/2024 23:18:06] \"GET /api/studies/1?after=50 HTTP/1.1\" 200 2666\n",
      "127.0.0.1 - - [04/Nov/2024 23:18:17] \"GET /api/studies/1?after=50 HTTP/1.1\" 200 2666\n",
      "127.0.0.1 - - [04/Nov/2024 23:18:28] \"GET /api/studies/1?after=50 HTTP/1.1\" 200 2666\n",
      "127.0.0.1 - - [04/Nov/2024 23:18:39] \"GET /api/studies/1?after=50 HTTP/1.1\" 200 2666\n",
      "127.0.0.1 - - [04/Nov/2024 23:18:50] \"GET /api/studies/1?after=50 HTTP/1.1\" 200 2666\n",
      "127.0.0.1 - - [04/Nov/2024 23:19:01] \"GET /api/studies/1?after=50 HTTP/1.1\" 200 2666\n",
      "127.0.0.1 - - [04/Nov/2024 23:19:12] \"GET /api/studies/1?after=50 HTTP/1.1\" 200 2666\n",
      "127.0.0.1 - - [04/Nov/2024 23:19:23] \"GET /api/studies/1?after=50 HTTP/1.1\" 200 2666\n",
      "127.0.0.1 - - [04/Nov/2024 23:19:34] \"GET /api/studies/1?after=50 HTTP/1.1\" 200 2666\n",
      "127.0.0.1 - - [04/Nov/2024 23:19:45] \"GET /api/studies/1?after=50 HTTP/1.1\" 200 2666\n",
      "127.0.0.1 - - [04/Nov/2024 23:19:56] \"GET /api/studies/1?after=50 HTTP/1.1\" 200 2666\n",
      "127.0.0.1 - - [04/Nov/2024 23:20:07] \"GET /api/studies/1?after=50 HTTP/1.1\" 200 2666\n",
      "127.0.0.1 - - [04/Nov/2024 23:20:18] \"GET /api/studies/1?after=50 HTTP/1.1\" 200 2666\n",
      "127.0.0.1 - - [04/Nov/2024 23:20:29] \"GET /api/studies/1?after=50 HTTP/1.1\" 200 2666\n",
      "127.0.0.1 - - [04/Nov/2024 23:20:40] \"GET /api/studies/1?after=50 HTTP/1.1\" 200 2666\n",
      "127.0.0.1 - - [04/Nov/2024 23:20:51] \"GET /api/studies/1?after=50 HTTP/1.1\" 200 2666\n",
      "127.0.0.1 - - [04/Nov/2024 23:21:02] \"GET /api/studies/1?after=50 HTTP/1.1\" 200 2666\n",
      "127.0.0.1 - - [04/Nov/2024 23:21:13] \"GET /api/studies/1?after=50 HTTP/1.1\" 200 2666\n",
      "127.0.0.1 - - [04/Nov/2024 23:21:24] \"GET /api/studies/1?after=50 HTTP/1.1\" 200 2666\n",
      "127.0.0.1 - - [04/Nov/2024 23:21:35] \"GET /api/studies/1?after=50 HTTP/1.1\" 200 2666\n",
      "127.0.0.1 - - [04/Nov/2024 23:21:46] \"GET /api/studies/1?after=50 HTTP/1.1\" 200 2666\n",
      "127.0.0.1 - - [04/Nov/2024 23:21:57] \"GET /api/studies/1?after=50 HTTP/1.1\" 200 2666\n",
      "127.0.0.1 - - [04/Nov/2024 23:22:08] \"GET /api/studies/1?after=50 HTTP/1.1\" 200 2666\n",
      "127.0.0.1 - - [04/Nov/2024 23:22:19] \"GET /api/studies/1?after=50 HTTP/1.1\" 200 2666\n",
      "127.0.0.1 - - [04/Nov/2024 23:22:30] \"GET /api/studies/1?after=50 HTTP/1.1\" 200 2666\n",
      "127.0.0.1 - - [04/Nov/2024 23:22:41] \"GET /api/studies/1?after=50 HTTP/1.1\" 200 2666\n",
      "127.0.0.1 - - [04/Nov/2024 23:22:52] \"GET /api/studies/1?after=50 HTTP/1.1\" 200 2666\n",
      "127.0.0.1 - - [04/Nov/2024 23:23:03] \"GET /api/studies/1?after=50 HTTP/1.1\" 200 2666\n",
      "127.0.0.1 - - [04/Nov/2024 23:23:14] \"GET /api/studies/1?after=50 HTTP/1.1\" 200 2666\n",
      "127.0.0.1 - - [04/Nov/2024 23:23:25] \"GET /api/studies/1?after=50 HTTP/1.1\" 200 2666\n",
      "127.0.0.1 - - [04/Nov/2024 23:23:36] \"GET /api/studies/1?after=50 HTTP/1.1\" 200 2666\n"
     ]
    }
   ],
   "source": [
    "# Start the dashboard\n",
    "!optuna-dashboard sqlite:///movie_recommendation_study.db --port 8080"
   ]
  },
  {
   "cell_type": "code",
   "execution_count": null,
   "id": "80982c96-b79d-4ca5-b63b-f1cde1ed8ad0",
   "metadata": {},
   "outputs": [],
   "source": []
  }
 ],
 "metadata": {
  "kernelspec": {
   "display_name": "Python 3 (ipykernel)",
   "language": "python",
   "name": "python3"
  },
  "language_info": {
   "codemirror_mode": {
    "name": "ipython",
    "version": 3
   },
   "file_extension": ".py",
   "mimetype": "text/x-python",
   "name": "python",
   "nbconvert_exporter": "python",
   "pygments_lexer": "ipython3",
   "version": "3.11.7"
  }
 },
 "nbformat": 4,
 "nbformat_minor": 5
}
